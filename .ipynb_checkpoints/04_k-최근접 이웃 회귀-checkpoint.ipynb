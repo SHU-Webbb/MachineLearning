{
 "cells": [
  {
   "cell_type": "markdown",
   "id": "487e53ff-0e02-4d09-8ada-66572eb210fd",
   "metadata": {},
   "source": [
    "# k-최근접 이웃 회귀"
   ]
  },
  {
   "cell_type": "markdown",
   "id": "2b447830-b4f7-4331-9602-4ae22a55becd",
   "metadata": {},
   "source": [
    "### 해결할 문제 "
   ]
  },
  {
   "cell_type": "markdown",
   "id": "af509f78-36cf-4993-a7d7-7661cbd2d242",
   "metadata": {},
   "source": [
    "#### 농어를 무게 단위로 판매할 예정\n",
    "#### 공급처에서 농어의 무게를 잘못 측정하여 보내옴.\n",
    "#### 농어의 길이, 높이 두꼐로 무게를 예측하고자 함"
   ]
  },
  {
   "cell_type": "markdown",
   "id": "4adb8cf1-9b94-486d-aac7-40610ab22134",
   "metadata": {},
   "source": [
    "### 데이터 준비"
   ]
  },
  {
   "cell_type": "code",
   "execution_count": 1,
   "id": "8bce5357-9cd7-438e-989b-dc9442887d4b",
   "metadata": {
    "tags": []
   },
   "outputs": [],
   "source": [
    "import numpy as np"
   ]
  },
  {
   "cell_type": "code",
   "execution_count": 2,
   "id": "b7463a22-3084-4c52-8ab9-6394cc8eece4",
   "metadata": {
    "tags": []
   },
   "outputs": [],
   "source": [
    "perch_length = np.array(\n",
    "    [8.4, 13.7, 15.0, 16.2, 17.4, 18.0, 18.7, 19.0, 19.6, 20.0, \n",
    "     21.0, 21.0, 21.0, 21.3, 22.0, 22.0, 22.0, 22.0, 22.0, 22.5, \n",
    "     22.5, 22.7, 23.0, 23.5, 24.0, 24.0, 24.6, 25.0, 25.6, 26.5, \n",
    "     27.3, 27.5, 27.5, 27.5, 28.0, 28.7, 30.0, 32.8, 34.5, 35.0, \n",
    "     36.5, 36.0, 37.0, 37.0, 39.0, 39.0, 39.0, 40.0, 40.0, 40.0, \n",
    "     40.0, 42.0, 43.0, 43.0, 43.5, 44.0]\n",
    "     )\n",
    "perch_weight = np.array(\n",
    "    [5.9, 32.0, 40.0, 51.5, 70.0, 100.0, 78.0, 80.0, 85.0, 85.0, \n",
    "     110.0, 115.0, 125.0, 130.0, 120.0, 120.0, 130.0, 135.0, 110.0, \n",
    "     130.0, 150.0, 145.0, 150.0, 170.0, 225.0, 145.0, 188.0, 180.0, \n",
    "     197.0, 218.0, 300.0, 260.0, 265.0, 250.0, 250.0, 300.0, 320.0, \n",
    "     514.0, 556.0, 840.0, 685.0, 700.0, 700.0, 690.0, 900.0, 650.0, \n",
    "     820.0, 850.0, 900.0, 1015.0, 820.0, 1100.0, 1000.0, 1100.0, \n",
    "     1000.0, 1000.0]\n",
    "     )"
   ]
  },
  {
   "cell_type": "markdown",
   "id": "3a07b1fb-7d63-4cac-b4e5-9f7d8f9aa23a",
   "metadata": {},
   "source": [
    "## 산점도 그리기"
   ]
  },
  {
   "cell_type": "code",
   "execution_count": 3,
   "id": "96804b2c-868a-4008-82ea-3cae0a2e4ffb",
   "metadata": {
    "tags": []
   },
   "outputs": [],
   "source": [
    "import matplotlib.pyplot as plt"
   ]
  },
  {
   "cell_type": "code",
   "execution_count": 6,
   "id": "a3405976-8ebf-4a89-9c1f-82fde3a0044f",
   "metadata": {
    "tags": []
   },
   "outputs": [
    {
     "data": {
      "image/png": "[encoded data removed]",
      "text/plain": [
       "<Figure size 640x480 with 1 Axes>"
      ]
     },
     "metadata": {},
     "output_type": "display_data"
    }
   ],
   "source": [
    "plt.scatter(perch_length, perch_weight)\n",
    "plt.xlabel('lenght')\n",
    "plt.ylabel('weight')\n",
    "plt.show()"
   ]
  },
  {
   "cell_type": "markdown",
   "id": "54b70a54-19a9-446a-97ef-e25858ce9483",
   "metadata": {},
   "source": [
    "#### 농어의 길이가 길어짐에 따라 무게도 늘어남."
   ]
  },
  {
   "cell_type": "markdown",
   "id": "f47af061-3d9b-4051-9558-165d676a7831",
   "metadata": {},
   "source": [
    "## 훈련 세트 준비"
   ]
  },
  {
   "cell_type": "code",
   "execution_count": 9,
   "id": "0d06c3c7-1194-492b-815b-9f3f2467316e",
   "metadata": {
    "tags": []
   },
   "outputs": [],
   "source": [
    "from sklearn.model_selection import train_test_split"
   ]
  },
  {
   "cell_type": "code",
   "execution_count": 10,
   "id": "b19ad591-cc4f-4dd4-93ae-41e38342ed04",
   "metadata": {
    "tags": []
   },
   "outputs": [],
   "source": [
    "train_input, test_input, train_target, test_target = train_test_split(perch_length, perch_weight, random_state=42) "
   ]
  },
  {
   "cell_type": "code",
   "execution_count": 11,
   "id": "f5eaf75e-bfea-4040-b2eb-5e5d84b6e50c",
   "metadata": {
    "tags": []
   },
   "outputs": [
    {
     "data": {
      "text/plain": [
       "array([19.6, 22. , 18.7, 17.4, 36. , 25. , 40. , 39. , 43. , 22. , 20. ,\n",
       "       22. , 24. , 27.5, 43. , 40. , 24. , 21. , 27.5, 40. , 32.8, 26.5,\n",
       "       36.5, 13.7, 22.7, 15. , 37. , 35. , 28.7, 23.5, 39. , 21. , 23. ,\n",
       "       22. , 44. , 22.5, 19. , 37. , 22. , 25.6, 42. , 34.5])"
      ]
     },
     "execution_count": 11,
     "metadata": {},
     "output_type": "execute_result"
    }
   ],
   "source": [
    "train_input"
   ]
  },
  {
   "cell_type": "code",
   "execution_count": 12,
   "id": "764fb327-ea19-4a81-a812-74ba7edc1552",
   "metadata": {
    "tags": []
   },
   "outputs": [
    {
     "data": {
      "text/plain": [
       "array([  85.,  135.,   78.,   70.,  700.,  180.,  850.,  820., 1000.,\n",
       "        120.,   85.,  130.,  225.,  260., 1100.,  900.,  145.,  115.,\n",
       "        265., 1015.,  514.,  218.,  685.,   32.,  145.,   40.,  690.,\n",
       "        840.,  300.,  170.,  650.,  110.,  150.,  110., 1000.,  150.,\n",
       "         80.,  700.,  120.,  197., 1100.,  556.])"
      ]
     },
     "execution_count": 12,
     "metadata": {},
     "output_type": "execute_result"
    }
   ],
   "source": [
    "train_target"
   ]
  },
  {
   "cell_type": "markdown",
   "id": "504a5c98-0c5e-4697-8723-a86c471d8037",
   "metadata": {},
   "source": [
    "### 사이킷런에서 사용할 훈련세트는 2차원 배열이어야 함."
   ]
  },
  {
   "cell_type": "code",
   "execution_count": 13,
   "id": "f4ea6e2d-7761-4362-aa16-24e6e9c9e661",
   "metadata": {
    "tags": []
   },
   "outputs": [
    {
     "name": "stdout",
     "output_type": "stream",
     "text": [
      "(4,)\n"
     ]
    }
   ],
   "source": [
    "# <예제>\n",
    "test_array = np.array([1, 2, 3, 4])\n",
    "print(test_array.shape)"
   ]
  },
  {
   "cell_type": "code",
   "execution_count": 14,
   "id": "aaea781d-46f9-497e-ba2a-2f9aff966040",
   "metadata": {
    "tags": []
   },
   "outputs": [
    {
     "name": "stdout",
     "output_type": "stream",
     "text": [
      "[[1 2]\n",
      " [3 4]]\n"
     ]
    }
   ],
   "source": [
    "# 배열의 차원을 조정 : reshape()\n",
    "test_array = test_array.reshape(2,2)\n",
    "print(test_array)"
   ]
  },
  {
   "cell_type": "code",
   "execution_count": 15,
   "id": "496c1da9-9b22-40bf-a902-dbad7c08210b",
   "metadata": {
    "tags": []
   },
   "outputs": [
    {
     "data": {
      "text/plain": [
       "(2, 2)"
      ]
     },
     "execution_count": 15,
     "metadata": {},
     "output_type": "execute_result"
    }
   ],
   "source": [
    "test_array.shape"
   ]
  },
  {
   "cell_type": "markdown",
   "id": "2516d1cc-3a08-4af1-bf3d-1514485dba72",
   "metadata": {},
   "source": [
    "#### train_input과 test_input을 2차원 배열로 바꾸기"
   ]
  },
  {
   "cell_type": "code",
   "execution_count": 16,
   "id": "2c4a7236-b67d-489e-a961-3bb6a5748cfa",
   "metadata": {
    "tags": []
   },
   "outputs": [
    {
     "name": "stdout",
     "output_type": "stream",
     "text": [
      "(42, 1) (14, 1)\n"
     ]
    }
   ],
   "source": [
    "# -1 : 배열 전체 원소의 갯수를 의미\n",
    "train_input = train_input.reshape(-1, 1)\n",
    "test_input = test_input.reshape(-1, 1)\n",
    "print(train_input.shape, test_input.shape)"
   ]
  },
  {
   "cell_type": "markdown",
   "id": "98fd86a8-14e0-4333-846f-ca7b6fbd2f30",
   "metadata": {},
   "source": [
    "### k-최근접 이웃 회귀 알고리즘을 사용하여 훈련 및 평가"
   ]
  },
  {
   "cell_type": "markdown",
   "id": "316cdec1-9a03-4f57-9628-251ab23993c4",
   "metadata": {},
   "source": [
    "#### k-최근접 이웃 회귀 클래스 : KNeighborsRegressor"
   ]
  },
  {
   "cell_type": "code",
   "execution_count": 18,
   "id": "e648cec0-8757-4474-b7e8-df5bbeeebaa9",
   "metadata": {
    "tags": []
   },
   "outputs": [
    {
     "data": {
      "text/html": [
       "<style>#sk-container-id-1 {color: black;}#sk-container-id-1 pre{padding: 0;}#sk-container-id-1 div.sk-toggleable {background-color: white;}#sk-container-id-1 label.sk-toggleable__label {cursor: pointer;display: block;width: 100%;margin-bottom: 0;padding: 0.3em;box-sizing: border-box;text-align: center;}#sk-container-id-1 label.sk-toggleable__label-arrow:before {content: \"▸\";float: left;margin-right: 0.25em;color: #696969;}#sk-container-id-1 label.sk-toggleable__label-arrow:hover:before {color: black;}#sk-container-id-1 div.sk-estimator:hover label.sk-toggleable__label-arrow:before {color: black;}#sk-container-id-1 div.sk-toggleable__content {max-height: 0;max-width: 0;overflow: hidden;text-align: left;background-color: #f0f8ff;}#sk-container-id-1 div.sk-toggleable__content pre {margin: 0.2em;color: black;border-radius: 0.25em;background-color: #f0f8ff;}#sk-container-id-1 input.sk-toggleable__control:checked~div.sk-toggleable__content {max-height: 200px;max-width: 100%;overflow: auto;}#sk-container-id-1 input.sk-toggleable__control:checked~label.sk-toggleable__label-arrow:before {content: \"▾\";}#sk-container-id-1 div.sk-estimator input.sk-toggleable__control:checked~label.sk-toggleable__label {background-color: #d4ebff;}#sk-container-id-1 div.sk-label input.sk-toggleable__control:checked~label.sk-toggleable__label {background-color: #d4ebff;}#sk-container-id-1 input.sk-hidden--visually {border: 0;clip: rect(1px 1px 1px 1px);clip: rect(1px, 1px, 1px, 1px);height: 1px;margin: -1px;overflow: hidden;padding: 0;position: absolute;width: 1px;}#sk-container-id-1 div.sk-estimator {font-family: monospace;background-color: #f0f8ff;border: 1px dotted black;border-radius: 0.25em;box-sizing: border-box;margin-bottom: 0.5em;}#sk-container-id-1 div.sk-estimator:hover {background-color: #d4ebff;}#sk-container-id-1 div.sk-parallel-item::after {content: \"\";width: 100%;border-bottom: 1px solid gray;flex-grow: 1;}#sk-container-id-1 div.sk-label:hover label.sk-toggleable__label {background-color: #d4ebff;}#sk-container-id-1 div.sk-serial::before {content: \"\";position: absolute;border-left: 1px solid gray;box-sizing: border-box;top: 0;bottom: 0;left: 50%;z-index: 0;}#sk-container-id-1 div.sk-serial {display: flex;flex-direction: column;align-items: center;background-color: white;padding-right: 0.2em;padding-left: 0.2em;position: relative;}#sk-container-id-1 div.sk-item {position: relative;z-index: 1;}#sk-container-id-1 div.sk-parallel {display: flex;align-items: stretch;justify-content: center;background-color: white;position: relative;}#sk-container-id-1 div.sk-item::before, #sk-container-id-1 div.sk-parallel-item::before {content: \"\";position: absolute;border-left: 1px solid gray;box-sizing: border-box;top: 0;bottom: 0;left: 50%;z-index: -1;}#sk-container-id-1 div.sk-parallel-item {display: flex;flex-direction: column;z-index: 1;position: relative;background-color: white;}#sk-container-id-1 div.sk-parallel-item:first-child::after {align-self: flex-end;width: 50%;}#sk-container-id-1 div.sk-parallel-item:last-child::after {align-self: flex-start;width: 50%;}#sk-container-id-1 div.sk-parallel-item:only-child::after {width: 0;}#sk-container-id-1 div.sk-dashed-wrapped {border: 1px dashed gray;margin: 0 0.4em 0.5em 0.4em;box-sizing: border-box;padding-bottom: 0.4em;background-color: white;}#sk-container-id-1 div.sk-label label {font-family: monospace;font-weight: bold;display: inline-block;line-height: 1.2em;}#sk-container-id-1 div.sk-label-container {text-align: center;}#sk-container-id-1 div.sk-container {/* jupyter's `normalize.less` sets `[hidden] { display: none; }` but bootstrap.min.css set `[hidden] { display: none !important; }` so we also need the `!important` here to be able to override the default hidden behavior on the sphinx rendered scikit-learn.org. See: https://github.com/scikit-learn/scikit-learn/issues/21755 */display: inline-block !important;position: relative;}#sk-container-id-1 div.sk-text-repr-fallback {display: none;}</style><div id=\"sk-container-id-1\" class=\"sk-top-container\"><div class=\"sk-text-repr-fallback\"><pre>KNeighborsRegressor()</pre><b>In a Jupyter environment, please rerun this cell to show the HTML representation or trust the notebook. <br />On GitHub, the HTML representation is unable to render, please try loading this page with nbviewer.org.</b></div><div class=\"sk-container\" hidden><div class=\"sk-item\"><div class=\"sk-estimator sk-toggleable\"><input class=\"sk-toggleable__control sk-hidden--visually\" id=\"sk-estimator-id-1\" type=\"checkbox\" checked><label for=\"sk-estimator-id-1\" class=\"sk-toggleable__label sk-toggleable__label-arrow\">KNeighborsRegressor</label><div class=\"sk-toggleable__content\"><pre>KNeighborsRegressor()</pre></div></div></div></div></div>"
      ],
      "text/plain": [
       "KNeighborsRegressor()"
      ]
     },
     "execution_count": 18,
     "metadata": {},
     "output_type": "execute_result"
    }
   ],
   "source": [
    "from sklearn.neighbors import KNeighborsRegressor\n",
    "\n",
    "knr = KNeighborsRegressor()\n",
    "knr.fit(train_input, train_target)"
   ]
  },
  {
   "cell_type": "markdown",
   "id": "104e2a09-087d-499e-a65e-3705756a07fc",
   "metadata": {},
   "source": [
    "#### 테스트 점수 확인"
   ]
  },
  {
   "cell_type": "code",
   "execution_count": 19,
   "id": "594819a3-6099-4f29-b045-21653c27ab0b",
   "metadata": {
    "tags": []
   },
   "outputs": [
    {
     "data": {
      "text/plain": [
       "0.992809406101064"
      ]
     },
     "execution_count": 19,
     "metadata": {},
     "output_type": "execute_result"
    }
   ],
   "source": [
    "knr.score(test_input, test_target)"
   ]
  },
  {
   "cell_type": "markdown",
   "id": "a941d0a0-2633-4991-be41-dcb5f4586d96",
   "metadata": {},
   "source": [
    "### 회귀 알고리즘의 평가"
   ]
  },
  {
   "cell_type": "markdown",
   "id": "865df98e-8a8d-4bd7-984d-1e326efc379c",
   "metadata": {
    "tags": []
   },
   "source": [
    "#### 분류 : 테스트 세트에 있는 샘플을 정확히 분류한 갯수의 비율 -> 정확도\n",
    "#### 회귀 : 정확한 숫자를 맞추는 것이 불가능함 -> 결정계수로 평가함."
   ]
  },
  {
   "cell_type": "markdown",
   "id": "db3d746e-a4dc-4a30-9957-f9d17beef7a6",
   "metadata": {},
   "source": [
    "## $R^2$ = 1 - $(타겟 - 예측)^2$의 합 / $(타겟 - 평균)^2$의 합"
   ]
  },
  {
   "cell_type": "markdown",
   "id": "3de425d1-aec8-48e2-8613-c86db5fdf253",
   "metadata": {},
   "source": [
    "#### 예측한 값이 타깃에 가까워지면 1에 가까운 값이 된다.\n",
    "#### score()의 출력하는 값이 높을수록 좋다."
   ]
  },
  {
   "cell_type": "markdown",
   "id": "ed580a4d-b35c-4326-8dcb-b187dc12c3ca",
   "metadata": {},
   "source": [
    "#### 예측한 값이 어느 정도 타깃값에서 벗어났는지 확인: mean_absolute_error()"
   ]
  },
  {
   "cell_type": "code",
   "execution_count": 23,
   "id": "bec408e2-727b-4eb1-8dc1-21ecd4c3435a",
   "metadata": {
    "tags": []
   },
   "outputs": [
    {
     "name": "stdout",
     "output_type": "stream",
     "text": [
      "19.157142857142862\n"
     ]
    }
   ],
   "source": [
    "from sklearn.metrics import mean_absolute_error\n",
    "\n",
    "# 테스트 세트에 대한 예측을 만든다.\n",
    "test_prediction = knr.predict(test_input)\n",
    "\n",
    "# 테스트 세트에 대한 평균 절대값 오차 계산.\n",
    "maen_error = mean_absolute_error(test_target, test_prediction)\n",
    "print(maen_error)"
   ]
  },
  {
   "cell_type": "markdown",
   "id": "ce121162-1776-4fa6-9c70-213cd4797ef0",
   "metadata": {},
   "source": [
    "#### 평균적으로 19g 정도 타깃값과 다르다."
   ]
  },
  {
   "cell_type": "markdown",
   "id": "8fb9ef26-f139-4a53-9240-1d194c5370a0",
   "metadata": {},
   "source": [
    "### 과대적합 vs 과소적합"
   ]
  },
  {
   "cell_type": "code",
   "execution_count": 24,
   "id": "6bf85177-6571-43c3-a818-6c6c8118e6f3",
   "metadata": {
    "tags": []
   },
   "outputs": [
    {
     "name": "stdout",
     "output_type": "stream",
     "text": [
      "0.9698823289099254\n"
     ]
    }
   ],
   "source": [
    "# 훈련 세트를 평가\n",
    "print(knr.score(train_input, train_target))"
   ]
  },
  {
   "cell_type": "markdown",
   "id": "3656fc7d-b150-4ee7-9e2c-d7057ab1b2bc",
   "metadata": {},
   "source": [
    "#### 훈련세트로 훈련하고 훈련세트로 평가하면 점수가 높게 나온다."
   ]
  },
  {
   "cell_type": "code",
   "execution_count": 25,
   "id": "0252ef22-058d-47eb-84ff-80c25d2fdaaf",
   "metadata": {
    "tags": []
   },
   "outputs": [
    {
     "name": "stdout",
     "output_type": "stream",
     "text": [
      "0.992809406101064\n"
     ]
    }
   ],
   "source": [
    "# 테스트 세트를 평가\n",
    "print(knr.score(test_input, test_target))"
   ]
  },
  {
   "cell_type": "markdown",
   "id": "1cc70355-0978-4d23-a7f7-119dddbc315f",
   "metadata": {},
   "source": [
    "### 앞에서 처럼 훈련세트의 평가점수보다 테스트 세트의 평가점수가 높다 => 과소적합(underfitting)"
   ]
  },
  {
   "cell_type": "markdown",
   "id": "251fcae7-20ab-4bb5-b486-4f98bccf1243",
   "metadata": {},
   "source": [
    "## 과소적합을  해결하는 방법"
   ]
  },
  {
   "cell_type": "markdown",
   "id": "4cd73bdc-6861-4d53-a319-1ba6d0803a1a",
   "metadata": {},
   "source": [
    "#### (1) 훈련 세트에 더 잘 맞게 만들어 준다.\n",
    "####       이웃의 기본 값(k)은 5 -> 3으로 줄인다.\n",
    "#### * 과대적합일 경우 k 이웃값을 늘린다.\n",
    "#### * 과소적합일 경우 k 이웃값을 줄인다."
   ]
  },
  {
   "cell_type": "code",
   "execution_count": 36,
   "id": "e01090f4-ed92-4391-8204-183674d4043d",
   "metadata": {
    "tags": []
   },
   "outputs": [
    {
     "name": "stdout",
     "output_type": "stream",
     "text": [
      "0.9804899950518966\n"
     ]
    }
   ],
   "source": [
    "knr.n_neighbors = 3\n",
    "\n",
    "# 모델 다시 훈련\n",
    "knr.fit(train_input, train_target)\n",
    "print(knr.score(train_input, train_target))"
   ]
  },
  {
   "cell_type": "code",
   "execution_count": 37,
   "id": "5e029f56-ac09-4afb-a7c7-36014f414017",
   "metadata": {
    "tags": []
   },
   "outputs": [
    {
     "name": "stdout",
     "output_type": "stream",
     "text": [
      "0.9746459963987609\n"
     ]
    }
   ],
   "source": [
    "# 테스트 세트에 대해서 평가\n",
    "print(knr.score(test_input, test_target))"
   ]
  },
  {
   "cell_type": "markdown",
   "id": "6e8812de-a09e-4bcd-ad91-109d27375a78",
   "metadata": {},
   "source": [
    "#### 테스트 세트의 점수가 훈련세트의 점수보다 낮아졌으므로 과소적합 문제 해결."
   ]
  },
  {
   "cell_type": "markdown",
   "id": "b82a9b8f-ece4-4006-8c53-40e6c40558df",
   "metadata": {},
   "source": [
    "### 산점도를 그려 K값을 변경하여 훈련"
   ]
  },
  {
   "cell_type": "code",
   "execution_count": 38,
   "id": "1a2d0805-9d62-46e0-adcc-f9cd51c2e8c5",
   "metadata": {
    "tags": []
   },
   "outputs": [],
   "source": [
    "knr = KNeighborsRegressor()\n",
    "\n",
    "# 농어의 길이를 5에서 45까지 바꿔가면 예측\n",
    "x = np.arange(5, 45).reshape(-1, 1)\n",
    "\n",
    "# n = 1, 5, 10일때 예측 결과를 그래프로 그린다.\n",
    "for n in [1, 5, 10]:\n",
    "    "
   ]
  }
 ],
 "metadata": {
  "kernelspec": {
   "display_name": "Python 3 (ipykernel)",
   "language": "python",
   "name": "python3"
  },
  "language_info": {
   "codemirror_mode": {
    "name": "ipython",
    "version": 3
   },
   "file_extension": ".py",
   "mimetype": "text/x-python",
   "name": "python",
   "nbconvert_exporter": "python",
   "pygments_lexer": "ipython3",
   "version": "3.11.5"
  }
 },
 "nbformat": 4,
 "nbformat_minor": 5
}
