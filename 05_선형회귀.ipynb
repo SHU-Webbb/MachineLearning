{
 "cells": [
  {
   "cell_type": "markdown",
   "id": "f0b4d4f6-6230-4818-958f-b4ba2dafbf04",
   "metadata": {},
   "source": [
    "# 선형 회귀"
   ]
  },
  {
   "cell_type": "markdown",
   "id": "46c6e940-644e-4ec3-a5e2-1f460c57439f",
   "metadata": {},
   "source": [
    "## 1. k-최근접 이웃회귀의 한계"
   ]
  },
  {
   "cell_type": "markdown",
   "id": "8da88ef6-5eea-4e2a-a7cb-6fbdc084f6a6",
   "metadata": {},
   "source": [
    "#### 훈련용 농어 데이터는 길이가 5~45cm인 데이터를 가지고 훈련\n",
    "#### 45cm 이상인 데이터에 대해서는 옳바르게 예측하지 못함."
   ]
  },
  {
   "cell_type": "code",
   "execution_count": null,
   "id": "9c669239-3178-47a0-860a-9a82e359b784",
   "metadata": {},
   "outputs": [],
   "source": [
    "# 04장에서 사용한 데이터 준비"
   ]
  },
  {
   "cell_type": "code",
   "execution_count": 1,
   "id": "3e152c7f-f1fa-4462-a879-a55b2448859f",
   "metadata": {
    "tags": []
   },
   "outputs": [],
   "source": [
    "import numpy as np"
   ]
  },
  {
   "cell_type": "code",
   "execution_count": 2,
   "id": "4ab199af-8b40-4eab-813c-dfc867776461",
   "metadata": {
    "tags": []
   },
   "outputs": [],
   "source": [
    "perch_length = np.array(\n",
    "    [8.4, 13.7, 15.0, 16.2, 17.4, 18.0, 18.7, 19.0, 19.6, 20.0, \n",
    "     21.0, 21.0, 21.0, 21.3, 22.0, 22.0, 22.0, 22.0, 22.0, 22.5, \n",
    "     22.5, 22.7, 23.0, 23.5, 24.0, 24.0, 24.6, 25.0, 25.6, 26.5, \n",
    "     27.3, 27.5, 27.5, 27.5, 28.0, 28.7, 30.0, 32.8, 34.5, 35.0, \n",
    "     36.5, 36.0, 37.0, 37.0, 39.0, 39.0, 39.0, 40.0, 40.0, 40.0, \n",
    "     40.0, 42.0, 43.0, 43.0, 43.5, 44.0]\n",
    "     )\n",
    "perch_weight = np.array(\n",
    "    [5.9, 32.0, 40.0, 51.5, 70.0, 100.0, 78.0, 80.0, 85.0, 85.0, \n",
    "     110.0, 115.0, 125.0, 130.0, 120.0, 120.0, 130.0, 135.0, 110.0, \n",
    "     130.0, 150.0, 145.0, 150.0, 170.0, 225.0, 145.0, 188.0, 180.0, \n",
    "     197.0, 218.0, 300.0, 260.0, 265.0, 250.0, 250.0, 300.0, 320.0, \n",
    "     514.0, 556.0, 840.0, 685.0, 700.0, 700.0, 690.0, 900.0, 650.0, \n",
    "     820.0, 850.0, 900.0, 1015.0, 820.0, 1100.0, 1000.0, 1100.0, \n",
    "     1000.0, 1000.0]\n",
    "     )"
   ]
  },
  {
   "cell_type": "code",
   "execution_count": 6,
   "id": "5e444c8f-080b-4afc-9699-5af078a8718b",
   "metadata": {
    "tags": []
   },
   "outputs": [],
   "source": [
    "# 훈련 세트와 테스트 세트 나누기\n",
    "from sklearn.model_selection import train_test_split\n",
    "train_input, test_input, train_target, test_target = train_test_split(\n",
    "    perch_length, perch_weight, random_state=42)"
   ]
  },
  {
   "cell_type": "code",
   "execution_count": 8,
   "id": "d68a90e8-dd79-41ff-9931-0bb64284447f",
   "metadata": {
    "tags": []
   },
   "outputs": [],
   "source": [
    "# 훈련 세트. 테스트 세트를 2차원 배열로 변환\n",
    "train_input = train_input.reshape(-1, 1)\n",
    "test_input = test_input.reshape(-1, 1)"
   ]
  },
  {
   "cell_type": "code",
   "execution_count": 20,
   "id": "74257dc3-1aaa-4a37-b1d1-ee9458dc83db",
   "metadata": {
    "tags": []
   },
   "outputs": [
    {
     "data": {
      "text/html": [
       "<style>#sk-container-id-1 {color: black;}#sk-container-id-1 pre{padding: 0;}#sk-container-id-1 div.sk-toggleable {background-color: white;}#sk-container-id-1 label.sk-toggleable__label {cursor: pointer;display: block;width: 100%;margin-bottom: 0;padding: 0.3em;box-sizing: border-box;text-align: center;}#sk-container-id-1 label.sk-toggleable__label-arrow:before {content: \"▸\";float: left;margin-right: 0.25em;color: #696969;}#sk-container-id-1 label.sk-toggleable__label-arrow:hover:before {color: black;}#sk-container-id-1 div.sk-estimator:hover label.sk-toggleable__label-arrow:before {color: black;}#sk-container-id-1 div.sk-toggleable__content {max-height: 0;max-width: 0;overflow: hidden;text-align: left;background-color: #f0f8ff;}#sk-container-id-1 div.sk-toggleable__content pre {margin: 0.2em;color: black;border-radius: 0.25em;background-color: #f0f8ff;}#sk-container-id-1 input.sk-toggleable__control:checked~div.sk-toggleable__content {max-height: 200px;max-width: 100%;overflow: auto;}#sk-container-id-1 input.sk-toggleable__control:checked~label.sk-toggleable__label-arrow:before {content: \"▾\";}#sk-container-id-1 div.sk-estimator input.sk-toggleable__control:checked~label.sk-toggleable__label {background-color: #d4ebff;}#sk-container-id-1 div.sk-label input.sk-toggleable__control:checked~label.sk-toggleable__label {background-color: #d4ebff;}#sk-container-id-1 input.sk-hidden--visually {border: 0;clip: rect(1px 1px 1px 1px);clip: rect(1px, 1px, 1px, 1px);height: 1px;margin: -1px;overflow: hidden;padding: 0;position: absolute;width: 1px;}#sk-container-id-1 div.sk-estimator {font-family: monospace;background-color: #f0f8ff;border: 1px dotted black;border-radius: 0.25em;box-sizing: border-box;margin-bottom: 0.5em;}#sk-container-id-1 div.sk-estimator:hover {background-color: #d4ebff;}#sk-container-id-1 div.sk-parallel-item::after {content: \"\";width: 100%;border-bottom: 1px solid gray;flex-grow: 1;}#sk-container-id-1 div.sk-label:hover label.sk-toggleable__label {background-color: #d4ebff;}#sk-container-id-1 div.sk-serial::before {content: \"\";position: absolute;border-left: 1px solid gray;box-sizing: border-box;top: 0;bottom: 0;left: 50%;z-index: 0;}#sk-container-id-1 div.sk-serial {display: flex;flex-direction: column;align-items: center;background-color: white;padding-right: 0.2em;padding-left: 0.2em;position: relative;}#sk-container-id-1 div.sk-item {position: relative;z-index: 1;}#sk-container-id-1 div.sk-parallel {display: flex;align-items: stretch;justify-content: center;background-color: white;position: relative;}#sk-container-id-1 div.sk-item::before, #sk-container-id-1 div.sk-parallel-item::before {content: \"\";position: absolute;border-left: 1px solid gray;box-sizing: border-box;top: 0;bottom: 0;left: 50%;z-index: -1;}#sk-container-id-1 div.sk-parallel-item {display: flex;flex-direction: column;z-index: 1;position: relative;background-color: white;}#sk-container-id-1 div.sk-parallel-item:first-child::after {align-self: flex-end;width: 50%;}#sk-container-id-1 div.sk-parallel-item:last-child::after {align-self: flex-start;width: 50%;}#sk-container-id-1 div.sk-parallel-item:only-child::after {width: 0;}#sk-container-id-1 div.sk-dashed-wrapped {border: 1px dashed gray;margin: 0 0.4em 0.5em 0.4em;box-sizing: border-box;padding-bottom: 0.4em;background-color: white;}#sk-container-id-1 div.sk-label label {font-family: monospace;font-weight: bold;display: inline-block;line-height: 1.2em;}#sk-container-id-1 div.sk-label-container {text-align: center;}#sk-container-id-1 div.sk-container {/* jupyter's `normalize.less` sets `[hidden] { display: none; }` but bootstrap.min.css set `[hidden] { display: none !important; }` so we also need the `!important` here to be able to override the default hidden behavior on the sphinx rendered scikit-learn.org. See: https://github.com/scikit-learn/scikit-learn/issues/21755 */display: inline-block !important;position: relative;}#sk-container-id-1 div.sk-text-repr-fallback {display: none;}</style><div id=\"sk-container-id-1\" class=\"sk-top-container\"><div class=\"sk-text-repr-fallback\"><pre>KNeighborsRegressor(n_neighbors=3)</pre><b>In a Jupyter environment, please rerun this cell to show the HTML representation or trust the notebook. <br />On GitHub, the HTML representation is unable to render, please try loading this page with nbviewer.org.</b></div><div class=\"sk-container\" hidden><div class=\"sk-item\"><div class=\"sk-estimator sk-toggleable\"><input class=\"sk-toggleable__control sk-hidden--visually\" id=\"sk-estimator-id-1\" type=\"checkbox\" checked><label for=\"sk-estimator-id-1\" class=\"sk-toggleable__label sk-toggleable__label-arrow\">KNeighborsRegressor</label><div class=\"sk-toggleable__content\"><pre>KNeighborsRegressor(n_neighbors=3)</pre></div></div></div></div></div>"
      ],
      "text/plain": [
       "KNeighborsRegressor(n_neighbors=3)"
      ]
     },
     "execution_count": 20,
     "metadata": {},
     "output_type": "execute_result"
    }
   ],
   "source": [
    "# 최근접 갯수를 3으로하는 모델 훈련\n",
    "from sklearn.neighbors import KNeighborsRegressor\n",
    "knr = KNeighborsRegressor(n_neighbors=3)\n",
    "knr.fit(train_input, train_target)"
   ]
  },
  {
   "cell_type": "code",
   "execution_count": 22,
   "id": "5c5efe07-f2e7-4d61-9391-5ddbc71aeb2e",
   "metadata": {
    "tags": []
   },
   "outputs": [
    {
     "name": "stdout",
     "output_type": "stream",
     "text": [
      "[1033.33333333]\n"
     ]
    }
   ],
   "source": [
    "# 50cm 농어의 무게 예측\n",
    "print(knr.predict([[50]]))"
   ]
  },
  {
   "cell_type": "markdown",
   "id": "a750eace-4d3a-4345-9825-22209c4b6cfe",
   "metadata": {},
   "source": [
    "### 실제 농어 무게는 1.5kg임"
   ]
  },
  {
   "cell_type": "markdown",
   "id": "055e145b-2b55-43a6-8ddd-12fd1710c6f9",
   "metadata": {},
   "source": [
    "## 2. 산점도 확인"
   ]
  },
  {
   "cell_type": "code",
   "execution_count": 27,
   "id": "fb96987a-42fc-40e4-95b1-199966aa2527",
   "metadata": {
    "tags": []
   },
   "outputs": [
    {
     "data": {
      "image/png": "[encoded data removed]",
      "text/plain": [
       "<Figure size 640x480 with 1 Axes>"
      ]
     },
     "metadata": {},
     "output_type": "display_data"
    }
   ],
   "source": [
    "import matplotlib.pyplot as plt\n",
    "\n",
    "# 50cm 농어의 이웃을 구한다.\n",
    "distances, indexes = knr.kneighbors([[50]])\n",
    "\n",
    "# 훈련 세트의 산점도\n",
    "plt.scatter(train_input, train_target)\n",
    "\n",
    "# 훈련 세트 중 이웃 샘플\n",
    "plt.scatter(train_input[indexes], train_target[indexes], marker='D')\n",
    "\n",
    "# 50cm 농어 데이터 그리기\n",
    "plt.scatter(50, 1033, marker='^')\n",
    "\n",
    "plt.xlabel('lenght')\n",
    "plt.ylabel('weight')\n",
    "plt.show()"
   ]
  },
  {
   "cell_type": "code",
   "execution_count": 29,
   "id": "a4d0d706-e3ef-415e-a0ad-4cdff8a07f6b",
   "metadata": {
    "tags": []
   },
   "outputs": [
    {
     "name": "stdout",
     "output_type": "stream",
     "text": [
      "1033.3333333333333\n"
     ]
    }
   ],
   "source": [
    "# 50cm 인접한 농어 샘플의 평균 무게 \n",
    "print(np.mean(train_target[indexes]))"
   ]
  },
  {
   "cell_type": "code",
   "execution_count": 30,
   "id": "b2ac8618-d9ee-4e77-b701-85f03b9a355c",
   "metadata": {
    "tags": []
   },
   "outputs": [
    {
     "name": "stdout",
     "output_type": "stream",
     "text": [
      "[1033.33333333]\n"
     ]
    }
   ],
   "source": [
    "print(knr.predict([[100]]))"
   ]
  },
  {
   "cell_type": "markdown",
   "id": "0210d3c2-548f-4c15-9471-45cd2ede2423",
   "metadata": {},
   "source": [
    "## 3. 선형 회귀"
   ]
  },
  {
   "cell_type": "markdown",
   "id": "c765ccd9-c97c-4c9b-87a7-5d0778ac8ea8",
   "metadata": {},
   "source": [
    "#### 사이킷런의 선형 회귀 알고리즘 구현 클래스 : LineartRegression\n",
    "#### 선형 회귀 알고리즘은 입력된 데이터를 가지고 1차원 방정식의 계수와 절편을 찾아내는 알고리즘 -> 입력한 데이터의 직선 규칙을 찾아내는 것 "
   ]
  },
  {
   "cell_type": "code",
   "execution_count": 23,
   "id": "c81db613-0654-4e7b-8cd5-9be6976b880a",
   "metadata": {
    "tags": []
   },
   "outputs": [],
   "source": [
    "from sklearn.linear_model import LinearRegression"
   ]
  },
  {
   "cell_type": "code",
   "execution_count": 31,
   "id": "630a5dc7-8b6e-4998-922c-911f753952d0",
   "metadata": {
    "tags": []
   },
   "outputs": [
    {
     "name": "stdout",
     "output_type": "stream",
     "text": [
      "[1241.83860323]\n"
     ]
    }
   ],
   "source": [
    "lr = LinearRegression()\n",
    "# 선형 회기 모델 훈련\n",
    "lr.fit(train_input, train_target)\n",
    "# 50cm 농어에 대한 예측\n",
    "print(lr.predict([[50]]))"
   ]
  },
  {
   "cell_type": "markdown",
   "id": "e773dba6-bae0-4822-be85-28da524db8f4",
   "metadata": {},
   "source": [
    "#### LinearRegression이 찾은 계수와 절편값"
   ]
  },
  {
   "cell_type": "code",
   "execution_count": 25,
   "id": "cc80bfda-4883-46ab-868d-f592c71569ec",
   "metadata": {
    "tags": []
   },
   "outputs": [
    {
     "name": "stdout",
     "output_type": "stream",
     "text": [
      "[39.01714496] -709.0186449535477\n"
     ]
    }
   ],
   "source": [
    "print(lr.coef_, lr.intercept_)"
   ]
  },
  {
   "cell_type": "code",
   "execution_count": 34,
   "id": "3a51e82f-c72e-473f-bace-50ee5bf03c0e",
   "metadata": {
    "tags": []
   },
   "outputs": [
    {
     "data": {
      "image/png": "[encoded data removed]",
      "text/plain": [
       "<Figure size 640x480 with 1 Axes>"
      ]
     },
     "metadata": {},
     "output_type": "display_data"
    }
   ],
   "source": [
    "# 훈련세트의 산점도\n",
    "plt.scatter(train_input, train_target)\n",
    "\n",
    "#15에서 50까지 1차 방정식 그래프\n",
    "plt.plot([15, 50], [15*lr.coef_ + lr.intercept_, 50 *lr.coef_ + lr.intercept_])\n",
    "\n",
    "#50cm 농어 데이터\n",
    "plt.scatter(50, 1241.8, marker='^')\n",
    "plt.show()"
   ]
  },
  {
   "cell_type": "code",
   "execution_count": 35,
   "id": "12744a0d-668e-4733-8283-409d0943a271",
   "metadata": {
    "tags": []
   },
   "outputs": [
    {
     "name": "stdout",
     "output_type": "stream",
     "text": [
      "0.939846333997604\n"
     ]
    }
   ],
   "source": [
    "print(lr.score(train_input, train_target))"
   ]
  },
  {
   "cell_type": "code",
   "execution_count": 36,
   "id": "62ed8387-444d-4803-a03f-d418efa6a208",
   "metadata": {
    "tags": []
   },
   "outputs": [
    {
     "name": "stdout",
     "output_type": "stream",
     "text": [
      "0.8247503123313558\n"
     ]
    }
   ],
   "source": [
    "print(lr.score(test_input, test_target))"
   ]
  },
  {
   "cell_type": "markdown",
   "id": "bb43090e-ff23-47ee-ab64-c45f3287fe24",
   "metadata": {},
   "source": [
    "## 앞의 선형 회기의 문제점"
   ]
  },
  {
   "cell_type": "markdown",
   "id": "9d39033a-dd4b-4c14-8bba-c3cf6f3fbf67",
   "metadata": {},
   "source": [
    "#### (1). 모델 측정결과 과대적합 문제 발생\n",
    "#### (2). 농어의 길이가 줄어들수록 0g 이하로 내려가야하는 형상 발생.\n",
    "####      하지만 실제 입력 데이터의 형태는 왼쪽 위로 구부러진 형태임."
   ]
  },
  {
   "cell_type": "markdown",
   "id": "1fd0e78c-ef34-4250-ab12-6cb9a4b69663",
   "metadata": {},
   "source": [
    "#### 데이터에 맞는 직선을 찾기 보다는 최적의 곡선을 찾으면 어떨까?"
   ]
  },
  {
   "cell_type": "markdown",
   "id": "eda2803b-e658-49db-ae79-7da9739bf0a4",
   "metadata": {},
   "source": [
    "# 4. 다항회귀"
   ]
  },
  {
   "cell_type": "markdown",
   "id": "61c13f67-d033-406f-bfa3-ef5be86fcaf8",
   "metadata": {},
   "source": [
    "### 왼쪽으로 휘어진 최적의 곡선을 찾기위해 특성을 농어의 길이, 길이를 제곱한 항을 추가하여 훈련"
   ]
  },
  {
   "cell_type": "code",
   "execution_count": 37,
   "id": "19b51940-1e4d-4daf-a906-66f41665b2fd",
   "metadata": {
    "tags": []
   },
   "outputs": [],
   "source": [
    "train_poly = np.column_stack((train_input **2, train_input))\n",
    "test_poly = np.column_stack((test_input **2, test_input))"
   ]
  },
  {
   "cell_type": "markdown",
   "id": "1f9ab648-f608-4bf9-8f9f-f0517de95a4a",
   "metadata": {},
   "source": [
    "#### train_poly를 이용해 선형 회귀 모델 다시 훈련"
   ]
  },
  {
   "cell_type": "code",
   "execution_count": 38,
   "id": "b1b7070f-762e-48e2-b49e-0b4a99f1fb46",
   "metadata": {
    "tags": []
   },
   "outputs": [
    {
     "name": "stdout",
     "output_type": "stream",
     "text": [
      "[1573.98423528]\n"
     ]
    }
   ],
   "source": [
    "lr = LinearRegression()\n",
    "lr.fit(train_poly, train_target)\n",
    "print(lr.predict([[50**2, 50]]))"
   ]
  },
  {
   "cell_type": "markdown",
   "id": "ab2230d7-9185-41fc-b1f0-522c864f6724",
   "metadata": {},
   "source": [
    "#### 앞서 훈련한 모델보다 더 높은 값을 예측"
   ]
  },
  {
   "cell_type": "markdown",
   "id": "f3cee3df-7c1e-4a57-b284-c5fa00ffe3d4",
   "metadata": {},
   "source": [
    "### 계수와 절편 출력"
   ]
  },
  {
   "cell_type": "code",
   "execution_count": 42,
   "id": "09d28453-6b2c-40f9-a2f1-53febce774cf",
   "metadata": {
    "tags": []
   },
   "outputs": [
    {
     "name": "stdout",
     "output_type": "stream",
     "text": [
      "[  1.01433211 -21.55792498] 116.05021078278259\n"
     ]
    }
   ],
   "source": [
    "print(lr.coef_, lr.intercept_)"
   ]
  },
  {
   "cell_type": "markdown",
   "id": "c3fff02c-f370-43d0-9f00-763fd0015681",
   "metadata": {},
   "source": [
    "### 앞에서 학습한 모델은 다음과 같다.\n",
    "#### 농어의 무게 = 1.0143 * $길이^2$ - 21.557 * 길이 + 116.05\n",
    "#### 이식은 다음과 같이 치환 가능함\n",
    "#### 무게 = 1.0143 * 대길이 - 21.557 * 길이 + 116.050"
   ]
  },
  {
   "cell_type": "code",
   "execution_count": 48,
   "id": "f151bc0a-6b56-4a84-aeb3-0b0ec49d64ec",
   "metadata": {
    "tags": []
   },
   "outputs": [
    {
     "data": {
      "image/png": "[encoded data removed]",
      "text/plain": [
       "<Figure size 640x480 with 1 Axes>"
      ]
     },
     "metadata": {},
     "output_type": "display_data"
    }
   ],
   "source": [
    "# 학습한 직선 그리기\n",
    "\n",
    "# 구간별 직석을 그리기 위해 15에서 49까지 정수 배열을 만든다.\n",
    "point = np.arange(15, 50)\n",
    "\n",
    "# 훈련 세트의 산점도를 그린다.\n",
    "plt.scatter(train_input, train_target)\n",
    "\n",
    "# 15에서 49까지 학습한 모델의 차트를 그린다.\n",
    "plt.plot(point, 1.0143 * point**2 - 21.557*point + 116.05)\n",
    "\n",
    "# 50cm 농어 데이터\n",
    "plt.scatter([50], [1574], marker = '^')\n",
    "plt.show()"
   ]
  },
  {
   "cell_type": "markdown",
   "id": "0843986a-b816-4549-aae3-62dc3ebf5844",
   "metadata": {},
   "source": [
    "### 훈련 세트와 테스트 세트의 $R^2$ 의 점수 평가"
   ]
  },
  {
   "cell_type": "code",
   "execution_count": 46,
   "id": "b31f2b3f-0a2e-49fb-bf50-a2f4cab32b36",
   "metadata": {
    "tags": []
   },
   "outputs": [
    {
     "name": "stdout",
     "output_type": "stream",
     "text": [
      "0.9706807451768623\n"
     ]
    }
   ],
   "source": [
    "print(lr.score(train_poly, train_target))"
   ]
  },
  {
   "cell_type": "code",
   "execution_count": 47,
   "id": "85fad81a-5f28-4e02-b010-e206a2e07a5c",
   "metadata": {
    "tags": []
   },
   "outputs": [
    {
     "name": "stdout",
     "output_type": "stream",
     "text": [
      "0.9775935108325121\n"
     ]
    }
   ],
   "source": [
    "print(lr.score(test_poly, test_target))"
   ]
  },
  {
   "cell_type": "markdown",
   "id": "402f07f2-3856-484b-9a8f-c6952e2ee741",
   "metadata": {},
   "source": [
    "#### 테스트에 대한 점수가 높아 과소적합 문제가 남아있지만, 전보다는 좋은 모델을 찾아냄."
   ]
  },
  {
   "cell_type": "code",
   "execution_count": null,
   "id": "4b99c9a5-3c65-40a9-aae9-1e4537375e3a",
   "metadata": {},
   "outputs": [],
   "source": []
  }
 ],
 "metadata": {
  "kernelspec": {
   "display_name": "Python 3 (ipykernel)",
   "language": "python",
   "name": "python3"
  },
  "language_info": {
   "codemirror_mode": {
    "name": "ipython",
    "version": 3
   },
   "file_extension": ".py",
   "mimetype": "text/x-python",
   "name": "python",
   "nbconvert_exporter": "python",
   "pygments_lexer": "ipython3",
   "version": "3.11.5"
  }
 },
 "nbformat": 4,
 "nbformat_minor": 5
}
