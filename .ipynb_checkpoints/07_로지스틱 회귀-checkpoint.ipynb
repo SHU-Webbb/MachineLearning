{
 "cells": [
  {
   "cell_type": "markdown",
   "id": "f5f0c345-4c48-48d3-a0c4-1db19011c6db",
   "metadata": {},
   "source": [
    "# 로지스틱 회귀"
   ]
  },
  {
   "cell_type": "markdown",
   "id": "50731756-026f-4bc6-b354-1c1c079137bb",
   "metadata": {},
   "source": [
    "### 럭키백 이벤트 기획\n",
    "#### 상품 상자에 7개의 생선을 준비\n",
    "#### 사용자는 상자안에 어떤 생선이 들어있는지 모름.\n",
    "#### 상자 겉면에 각 생선이 들어 있을 확률을 표시"
   ]
  },
  {
   "cell_type": "markdown",
   "id": "91419a3b-7440-4550-857f-42cf01c0fcd9",
   "metadata": {},
   "source": [
    "## 1. 데이터 준비하기"
   ]
  },
  {
   "cell_type": "code",
   "execution_count": 1,
   "id": "b43aa94b-c474-4101-8762-18b30fa41e36",
   "metadata": {
    "tags": []
   },
   "outputs": [
    {
     "data": {
      "text/html": [
       "<div>\n",
       "<style scoped>\n",
       "    .dataframe tbody tr th:only-of-type {\n",
       "        vertical-align: middle;\n",
       "    }\n",
       "\n",
       "    .dataframe tbody tr th {\n",
       "        vertical-align: top;\n",
       "    }\n",
       "\n",
       "    .dataframe thead th {\n",
       "        text-align: right;\n",
       "    }\n",
       "</style>\n",
       "<table border=\"1\" class=\"dataframe\">\n",
       "  <thead>\n",
       "    <tr style=\"text-align: right;\">\n",
       "      <th></th>\n",
       "      <th>Species</th>\n",
       "      <th>Weight</th>\n",
       "      <th>Length</th>\n",
       "      <th>Diagonal</th>\n",
       "      <th>Height</th>\n",
       "      <th>Width</th>\n",
       "    </tr>\n",
       "  </thead>\n",
       "  <tbody>\n",
       "    <tr>\n",
       "      <th>0</th>\n",
       "      <td>Bream</td>\n",
       "      <td>242.0</td>\n",
       "      <td>25.4</td>\n",
       "      <td>30.0</td>\n",
       "      <td>11.5200</td>\n",
       "      <td>4.0200</td>\n",
       "    </tr>\n",
       "    <tr>\n",
       "      <th>1</th>\n",
       "      <td>Bream</td>\n",
       "      <td>290.0</td>\n",
       "      <td>26.3</td>\n",
       "      <td>31.2</td>\n",
       "      <td>12.4800</td>\n",
       "      <td>4.3056</td>\n",
       "    </tr>\n",
       "    <tr>\n",
       "      <th>2</th>\n",
       "      <td>Bream</td>\n",
       "      <td>340.0</td>\n",
       "      <td>26.5</td>\n",
       "      <td>31.1</td>\n",
       "      <td>12.3778</td>\n",
       "      <td>4.6961</td>\n",
       "    </tr>\n",
       "    <tr>\n",
       "      <th>3</th>\n",
       "      <td>Bream</td>\n",
       "      <td>363.0</td>\n",
       "      <td>29.0</td>\n",
       "      <td>33.5</td>\n",
       "      <td>12.7300</td>\n",
       "      <td>4.4555</td>\n",
       "    </tr>\n",
       "    <tr>\n",
       "      <th>4</th>\n",
       "      <td>Bream</td>\n",
       "      <td>430.0</td>\n",
       "      <td>29.0</td>\n",
       "      <td>34.0</td>\n",
       "      <td>12.4440</td>\n",
       "      <td>5.1340</td>\n",
       "    </tr>\n",
       "  </tbody>\n",
       "</table>\n",
       "</div>"
      ],
      "text/plain": [
       "  Species  Weight  Length  Diagonal   Height   Width\n",
       "0   Bream   242.0    25.4      30.0  11.5200  4.0200\n",
       "1   Bream   290.0    26.3      31.2  12.4800  4.3056\n",
       "2   Bream   340.0    26.5      31.1  12.3778  4.6961\n",
       "3   Bream   363.0    29.0      33.5  12.7300  4.4555\n",
       "4   Bream   430.0    29.0      34.0  12.4440  5.1340"
      ]
     },
     "execution_count": 1,
     "metadata": {},
     "output_type": "execute_result"
    }
   ],
   "source": [
    "import pandas as pd\n",
    "fish = pd.read_csv('https://bit.ly/fish_csv_data')\n",
    "fish.head()"
   ]
  },
  {
   "cell_type": "markdown",
   "id": "ebf14bb5-1da1-482c-8571-cdb67277432e",
   "metadata": {},
   "source": [
    "#### 어떤 종류의 생선이 있는지 Species 열의 unique값 추출"
   ]
  },
  {
   "cell_type": "code",
   "execution_count": 2,
   "id": "0d526ab4-ac6b-4049-8e6d-04cf55ed6c28",
   "metadata": {
    "tags": []
   },
   "outputs": [
    {
     "name": "stdout",
     "output_type": "stream",
     "text": [
      "['Bream' 'Roach' 'Whitefish' 'Parkki' 'Perch' 'Pike' 'Smelt']\n"
     ]
    }
   ],
   "source": [
    "print(pd.unique(fish['Species']))"
   ]
  },
  {
   "cell_type": "markdown",
   "id": "5228f2e9-d1ce-4a31-aba1-cf4bf6d71fca",
   "metadata": {},
   "source": [
    "#### 이 데이터프레임에서 Species -> 타겟, 나머지 컬럼 -> 입력 데이터로 사용"
   ]
  },
  {
   "cell_type": "code",
   "execution_count": 6,
   "id": "552304ba-df21-4657-83a5-052762d2e3e9",
   "metadata": {
    "tags": []
   },
   "outputs": [],
   "source": [
    "# 입력 데이터 만들기\n",
    "fish_input = fish[['Weight', 'Length', 'Diagonal', 'Height', 'Width']].to_numpy()"
   ]
  },
  {
   "cell_type": "code",
   "execution_count": 7,
   "id": "49294a23-d29e-49fb-be69-48b07deed710",
   "metadata": {
    "tags": []
   },
   "outputs": [
    {
     "name": "stdout",
     "output_type": "stream",
     "text": [
      "[[242.      25.4     30.      11.52     4.02  ]\n",
      " [290.      26.3     31.2     12.48     4.3056]\n",
      " [340.      26.5     31.1     12.3778   4.6961]\n",
      " [363.      29.      33.5     12.73     4.4555]\n",
      " [430.      29.      34.      12.444    5.134 ]]\n"
     ]
    }
   ],
   "source": [
    "print(fish_input[:5])"
   ]
  },
  {
   "cell_type": "code",
   "execution_count": 8,
   "id": "f847eacb-d33b-4f3c-997f-971223a490c7",
   "metadata": {
    "tags": []
   },
   "outputs": [],
   "source": [
    "# 타겟 데이터 만들기\n",
    "fish_target = fish['Species'].to_numpy()"
   ]
  },
  {
   "cell_type": "code",
   "execution_count": 9,
   "id": "fa8156c1-9f34-4530-ab4a-f49b4333fa5a",
   "metadata": {
    "tags": []
   },
   "outputs": [
    {
     "name": "stdout",
     "output_type": "stream",
     "text": [
      "['Bream' 'Bream' 'Bream' 'Bream' 'Bream']\n"
     ]
    }
   ],
   "source": [
    "print(fish_target[:5])"
   ]
  },
  {
   "cell_type": "markdown",
   "id": "0f8f355b-d904-447e-8125-001711a5ff21",
   "metadata": {},
   "source": [
    "## 2. 훈련 세트, 테스트 세트 만들기"
   ]
  },
  {
   "cell_type": "code",
   "execution_count": 14,
   "id": "bf88b8a2-bbb3-4e4a-9004-0f4742ab56ef",
   "metadata": {
    "tags": []
   },
   "outputs": [],
   "source": [
    "from sklearn.model_selection import train_test_split\n",
    "train_input, test_input, train_target, test_target = train_test_split(fish_input, fish_target, random_state=42)"
   ]
  },
  {
   "cell_type": "markdown",
   "id": "b8502fbc-99c4-4a24-9927-72f25be34e8c",
   "metadata": {},
   "source": [
    "## 3. 표준화 전처리 "
   ]
  },
  {
   "cell_type": "code",
   "execution_count": 15,
   "id": "318ba672-c6ab-46ac-af0c-484eae186eaa",
   "metadata": {
    "tags": []
   },
   "outputs": [],
   "source": [
    "from sklearn.preprocessing import StandardScaler\n",
    "\n",
    "ss = StandardScaler()\n",
    "ss.fit(train_input)\n",
    "train_scaled = ss.transform(train_input)\n",
    "test_scaled = ss.transform(test_input)"
   ]
  },
  {
   "cell_type": "markdown",
   "id": "d80bad9c-94a0-45de-adfc-52814f90ffa2",
   "metadata": {},
   "source": [
    "## 4. k-최근접 이웃 분류기로 확률 예측"
   ]
  },
  {
   "cell_type": "code",
   "execution_count": 16,
   "id": "c7ffa1e8-4a23-4613-8eb0-6809eef9ea6f",
   "metadata": {
    "tags": []
   },
   "outputs": [
    {
     "name": "stdout",
     "output_type": "stream",
     "text": [
      "0.8907563025210085\n",
      "0.85\n"
     ]
    }
   ],
   "source": [
    "from sklearn.neighbors import KNeighborsClassifier\n",
    "\n",
    "kn = KNeighborsClassifier(n_neighbors=3)\n",
    "kn.fit(train_scaled, train_target)\n",
    "print(kn.score(train_scaled, train_target))\n",
    "print(kn.score(test_scaled, test_target))"
   ]
  },
  {
   "cell_type": "markdown",
   "id": "8c8a11be-55b5-47b2-b210-e251af4fc84d",
   "metadata": {},
   "source": [
    "### 타겟 데이터에 2개 이상의 클래스가 포함된 문제를 다중 분류(multi-class classification)라고 한다."
   ]
  },
  {
   "cell_type": "markdown",
   "id": "bd9e0f0a-2cf0-4bea-aa78-35d01094218e",
   "metadata": {},
   "source": [
    "## 5. k-최근접 이웃의 다중 분류 "
   ]
  },
  {
   "cell_type": "code",
   "execution_count": 17,
   "id": "b3849bf1-4bec-467b-8a70-c6b88732b1d8",
   "metadata": {
    "tags": []
   },
   "outputs": [
    {
     "name": "stdout",
     "output_type": "stream",
     "text": [
      "['Bream' 'Parkki' 'Perch' 'Pike' 'Roach' 'Smelt' 'Whitefish']\n"
     ]
    }
   ],
   "source": [
    "print(kn.classes_)"
   ]
  },
  {
   "cell_type": "code",
   "execution_count": 19,
   "id": "ef7f0c94-b158-412e-b259-4180641aad7f",
   "metadata": {
    "tags": []
   },
   "outputs": [
    {
     "name": "stdout",
     "output_type": "stream",
     "text": [
      "['Perch' 'Smelt' 'Pike' 'Perch' 'Perch']\n"
     ]
    }
   ],
   "source": [
    "print(kn.predict(test_scaled[:5]))"
   ]
  },
  {
   "cell_type": "code",
   "execution_count": 22,
   "id": "12271735-9c03-4b6a-bba1-4890f2675502",
   "metadata": {
    "tags": []
   },
   "outputs": [
    {
     "name": "stdout",
     "output_type": "stream",
     "text": [
      "['Perch' 'Smelt' 'Pike' 'Whitefish' 'Perch']\n"
     ]
    }
   ],
   "source": [
    "print(test_target[:5])"
   ]
  },
  {
   "cell_type": "code",
   "execution_count": 25,
   "id": "0dce78e3-cd07-4640-a28e-ded340d9a71f",
   "metadata": {
    "tags": []
   },
   "outputs": [
    {
     "name": "stdout",
     "output_type": "stream",
     "text": [
      "[[0.     0.     1.     0.     0.     0.     0.    ]\n",
      " [0.     0.     0.     0.     0.     1.     0.    ]\n",
      " [0.     0.     0.     1.     0.     0.     0.    ]\n",
      " [0.     0.     0.6667 0.     0.3333 0.     0.    ]\n",
      " [0.     0.     0.6667 0.     0.3333 0.     0.    ]]\n"
     ]
    }
   ],
   "source": [
    "# 테스트 세트의 5개 데이터에 대한 확률값 확인 : predict_proba()\n",
    "import numpy as np\n",
    "proba = kn.predict_proba(test_scaled[:5])\n",
    "print(np.round(proba, decimals=4)) # 소수 4째자리 까지 표시, 출력 순서는 classes_ 속성과 같음."
   ]
  },
  {
   "cell_type": "code",
   "execution_count": 27,
   "id": "a00e8016-dcde-4a83-baca-6f570a548b42",
   "metadata": {
    "tags": []
   },
   "outputs": [
    {
     "name": "stdout",
     "output_type": "stream",
     "text": [
      "[['Roach' 'Perch' 'Perch']]\n"
     ]
    }
   ],
   "source": [
    "# 네번째 샘플의 최근접 이웃 확인\n",
    "dictances, indexes = kn.kneighbors(test_scaled[3:4])\n",
    "print(train_target[indexes])"
   ]
  },
  {
   "cell_type": "markdown",
   "id": "2f90b608-3c2b-4227-90a5-e713f9442b9a",
   "metadata": {},
   "source": [
    "### 3개의 최근접 이웃을 사용하기 때문에 가능한 확률이 0/3, 1/3, 2/3, 3/3 이 전부."
   ]
  },
  {
   "cell_type": "markdown",
   "id": "3c5d201c-2931-4748-9b01-9fdc891ab592",
   "metadata": {},
   "source": [
    "# 6. 로지스틱 회귀"
   ]
  },
  {
   "cell_type": "markdown",
   "id": "46984cf2-9d0d-4fa4-9984-53bdcc1de0fa",
   "metadata": {},
   "source": [
    "#### 알고리즘 이름은 회귀이지만 다중 분류를 위한 모델"
   ]
  },
  {
   "cell_type": "markdown",
   "id": "d0128251-a008-41ff-acd3-6a30d11fae9a",
   "metadata": {},
   "source": [
    "#### 선형 회귀와 동일하게 선형 방정식을 학습\n",
    "#### z = a * 무게 + b * 길이 + c * 대각선 + d * 높이 + e * 두께 * f \n",
    "#### 계산한 z 값이 임의의 정수가 되므로 확률로 활용하려면 0~1 사이의 값으로 ㅍ현해야 함.\n",
    "#### sigmoid 함수를 사용하여 0~1 사이의 값으로 변환\n"
   ]
  },
  {
   "cell_type": "code",
   "execution_count": 30,
   "id": "899e8782-1ca8-4021-b584-b055d0fec9d6",
   "metadata": {
    "tags": []
   },
   "outputs": [
    {
     "data": {
      "image/png": "[encoded data removed]",
      "text/plain": [
       "<Figure size 640x480 with 1 Axes>"
      ]
     },
     "metadata": {},
     "output_type": "display_data"
    }
   ],
   "source": [
    "# z가 -5 ~ 5 사이일 때 시그모이드 그래프 그리기\n",
    "import matplotlib.pyplot as plt\n",
    "import numpy as np\n",
    "z = np.arange(-5, 5, 0.1)\n",
    "phi = 1 / (1 + np.exp(-z))\n",
    "plt.plot(z, phi)\n",
    "plt.xlabel('z')\n",
    "plt.ylabel('phk')\n",
    "plt.show()"
   ]
  },
  {
   "cell_type": "markdown",
   "id": "139ec84d-745c-4f8f-a360-13a65604f37a",
   "metadata": {},
   "source": [
    "### (1) 로지스틱 회귀로 이진 분류하기"
   ]
  },
  {
   "cell_type": "markdown",
   "id": "dd7b4d61-1a19-4497-a0ed-f0f38dc76092",
   "metadata": {},
   "source": [
    "### 시그모이드 함수 결과 : >0.5 양성, <0.5 음성"
   ]
  },
  {
   "cell_type": "code",
   "execution_count": 33,
   "id": "54b62fc0-6aab-4aa8-a8f4-639a33b441c7",
   "metadata": {
    "tags": []
   },
   "outputs": [
    {
     "name": "stdout",
     "output_type": "stream",
     "text": [
      "['A' 'C']\n"
     ]
    }
   ],
   "source": [
    "# 넘파이 배열로 연습\n",
    "char_arr = np.array(['A', 'B', 'C', 'D', 'E'])\n",
    "print(char_arr[[True, False, True, False, False]])"
   ]
  },
  {
   "cell_type": "code",
   "execution_count": 40,
   "id": "6b0d7703-4c8d-4eda-8294-f2855e94df69",
   "metadata": {
    "tags": []
   },
   "outputs": [],
   "source": [
    "# 위와 같은 방식으로 원본데이터에서 Bream 과 Smelt만 추출\n",
    "bream_smelt_indexes = (train_target == 'Bream') | (train_target == 'Smelt')\n",
    "train_bream_smelt = train_scaled[bream_smelt_indexes]\n",
    "target_bream_smelt = train_target[bream_smelt_indexes]"
   ]
  },
  {
   "cell_type": "markdown",
   "id": "427c93dc-e946-40e8-932f-a9e4d1dd6531",
   "metadata": {},
   "source": [
    "### 로지스틱 회귀 모델 훈련"
   ]
  },
  {
   "cell_type": "code",
   "execution_count": 41,
   "id": "8bda3773-f5f7-48a9-8427-5e246907cca6",
   "metadata": {
    "tags": []
   },
   "outputs": [
    {
     "data": {
      "text/html": [
       "<style>#sk-container-id-1 {color: black;}#sk-container-id-1 pre{padding: 0;}#sk-container-id-1 div.sk-toggleable {background-color: white;}#sk-container-id-1 label.sk-toggleable__label {cursor: pointer;display: block;width: 100%;margin-bottom: 0;padding: 0.3em;box-sizing: border-box;text-align: center;}#sk-container-id-1 label.sk-toggleable__label-arrow:before {content: \"▸\";float: left;margin-right: 0.25em;color: #696969;}#sk-container-id-1 label.sk-toggleable__label-arrow:hover:before {color: black;}#sk-container-id-1 div.sk-estimator:hover label.sk-toggleable__label-arrow:before {color: black;}#sk-container-id-1 div.sk-toggleable__content {max-height: 0;max-width: 0;overflow: hidden;text-align: left;background-color: #f0f8ff;}#sk-container-id-1 div.sk-toggleable__content pre {margin: 0.2em;color: black;border-radius: 0.25em;background-color: #f0f8ff;}#sk-container-id-1 input.sk-toggleable__control:checked~div.sk-toggleable__content {max-height: 200px;max-width: 100%;overflow: auto;}#sk-container-id-1 input.sk-toggleable__control:checked~label.sk-toggleable__label-arrow:before {content: \"▾\";}#sk-container-id-1 div.sk-estimator input.sk-toggleable__control:checked~label.sk-toggleable__label {background-color: #d4ebff;}#sk-container-id-1 div.sk-label input.sk-toggleable__control:checked~label.sk-toggleable__label {background-color: #d4ebff;}#sk-container-id-1 input.sk-hidden--visually {border: 0;clip: rect(1px 1px 1px 1px);clip: rect(1px, 1px, 1px, 1px);height: 1px;margin: -1px;overflow: hidden;padding: 0;position: absolute;width: 1px;}#sk-container-id-1 div.sk-estimator {font-family: monospace;background-color: #f0f8ff;border: 1px dotted black;border-radius: 0.25em;box-sizing: border-box;margin-bottom: 0.5em;}#sk-container-id-1 div.sk-estimator:hover {background-color: #d4ebff;}#sk-container-id-1 div.sk-parallel-item::after {content: \"\";width: 100%;border-bottom: 1px solid gray;flex-grow: 1;}#sk-container-id-1 div.sk-label:hover label.sk-toggleable__label {background-color: #d4ebff;}#sk-container-id-1 div.sk-serial::before {content: \"\";position: absolute;border-left: 1px solid gray;box-sizing: border-box;top: 0;bottom: 0;left: 50%;z-index: 0;}#sk-container-id-1 div.sk-serial {display: flex;flex-direction: column;align-items: center;background-color: white;padding-right: 0.2em;padding-left: 0.2em;position: relative;}#sk-container-id-1 div.sk-item {position: relative;z-index: 1;}#sk-container-id-1 div.sk-parallel {display: flex;align-items: stretch;justify-content: center;background-color: white;position: relative;}#sk-container-id-1 div.sk-item::before, #sk-container-id-1 div.sk-parallel-item::before {content: \"\";position: absolute;border-left: 1px solid gray;box-sizing: border-box;top: 0;bottom: 0;left: 50%;z-index: -1;}#sk-container-id-1 div.sk-parallel-item {display: flex;flex-direction: column;z-index: 1;position: relative;background-color: white;}#sk-container-id-1 div.sk-parallel-item:first-child::after {align-self: flex-end;width: 50%;}#sk-container-id-1 div.sk-parallel-item:last-child::after {align-self: flex-start;width: 50%;}#sk-container-id-1 div.sk-parallel-item:only-child::after {width: 0;}#sk-container-id-1 div.sk-dashed-wrapped {border: 1px dashed gray;margin: 0 0.4em 0.5em 0.4em;box-sizing: border-box;padding-bottom: 0.4em;background-color: white;}#sk-container-id-1 div.sk-label label {font-family: monospace;font-weight: bold;display: inline-block;line-height: 1.2em;}#sk-container-id-1 div.sk-label-container {text-align: center;}#sk-container-id-1 div.sk-container {/* jupyter's `normalize.less` sets `[hidden] { display: none; }` but bootstrap.min.css set `[hidden] { display: none !important; }` so we also need the `!important` here to be able to override the default hidden behavior on the sphinx rendered scikit-learn.org. See: https://github.com/scikit-learn/scikit-learn/issues/21755 */display: inline-block !important;position: relative;}#sk-container-id-1 div.sk-text-repr-fallback {display: none;}</style><div id=\"sk-container-id-1\" class=\"sk-top-container\"><div class=\"sk-text-repr-fallback\"><pre>LogisticRegression()</pre><b>In a Jupyter environment, please rerun this cell to show the HTML representation or trust the notebook. <br />On GitHub, the HTML representation is unable to render, please try loading this page with nbviewer.org.</b></div><div class=\"sk-container\" hidden><div class=\"sk-item\"><div class=\"sk-estimator sk-toggleable\"><input class=\"sk-toggleable__control sk-hidden--visually\" id=\"sk-estimator-id-1\" type=\"checkbox\" checked><label for=\"sk-estimator-id-1\" class=\"sk-toggleable__label sk-toggleable__label-arrow\">LogisticRegression</label><div class=\"sk-toggleable__content\"><pre>LogisticRegression()</pre></div></div></div></div></div>"
      ],
      "text/plain": [
       "LogisticRegression()"
      ]
     },
     "execution_count": 41,
     "metadata": {},
     "output_type": "execute_result"
    }
   ],
   "source": [
    "from sklearn.linear_model import LogisticRegression\n",
    "lr = LogisticRegression()\n",
    "lr.fit(train_bream_smelt, target_bream_smelt)"
   ]
  },
  {
   "cell_type": "code",
   "execution_count": 43,
   "id": "2ec8f1ba-b0c7-41f7-87ad-9adc0c8b66ae",
   "metadata": {
    "tags": []
   },
   "outputs": [
    {
     "name": "stdout",
     "output_type": "stream",
     "text": [
      "['Bream' 'Smelt' 'Bream' 'Bream' 'Bream']\n"
     ]
    }
   ],
   "source": [
    "# 훈련한 모델을 사용해 처음 5개 샘플 예측\n",
    "print(lr.predict(train_bream_smelt[:5]))"
   ]
  },
  {
   "cell_type": "code",
   "execution_count": 45,
   "id": "97b48fa7-7c42-47ec-bfba-7ce4aaa9a9c4",
   "metadata": {
    "tags": []
   },
   "outputs": [
    {
     "name": "stdout",
     "output_type": "stream",
     "text": [
      "[[0.99759855 0.00240145]\n",
      " [0.02735183 0.97264817]\n",
      " [0.99486072 0.00513928]\n",
      " [0.98584202 0.01415798]\n",
      " [0.99767269 0.00232731]]\n"
     ]
    }
   ],
   "source": [
    "# 위와 같이 예측한 확률 출력\n",
    "print(lr.predict_proba(train_bream_smelt[:5]))\n",
    "# 첫번째 열이 도미 (Bream), 두번째 열이 (Smelt)에 대한 확률"
   ]
  },
  {
   "cell_type": "code",
   "execution_count": 46,
   "id": "56a5f060-7c81-4846-80dc-6e00fc10e003",
   "metadata": {
    "tags": []
   },
   "outputs": [
    {
     "name": "stdout",
     "output_type": "stream",
     "text": [
      "['Bream' 'Smelt']\n"
     ]
    }
   ],
   "source": [
    "print(lr.classes_)"
   ]
  },
  {
   "cell_type": "markdown",
   "id": "32085afc-ae0d-4471-a6bc-cc2b9e3179f4",
   "metadata": {},
   "source": [
    "### 로지스틱 회귀가 학습한 계수 확인"
   ]
  },
  {
   "cell_type": "code",
   "execution_count": 47,
   "id": "600aa935-53c0-4b3f-9e7c-548c1ae59a12",
   "metadata": {
    "tags": []
   },
   "outputs": [
    {
     "name": "stdout",
     "output_type": "stream",
     "text": [
      "[[-0.4037798  -0.57620209 -0.66280298 -1.01290277 -0.73168947]] [-2.16155132]\n"
     ]
    }
   ],
   "source": [
    "# coef_ : 계수, intercept: 절편\n",
    "print(lr.coef_, lr.intercept_)"
   ]
  },
  {
   "cell_type": "markdown",
   "id": "5908483f-1819-4853-9ff5-6f62b97264be",
   "metadata": {
    "tags": []
   },
   "source": [
    "### 로지스틱 회귀가 학습한 방적식\n",
    "#### z = -0.4038 * (Weight) - 0.5762 * (Length) - 0.6628 * (Diagonal) - 1.0129 * (Height) - 0.73169 * (Width) - 2.161"
   ]
  },
  {
   "cell_type": "markdown",
   "id": "51f50e4c-61e0-48bc-8f2b-783ac247d361",
   "metadata": {},
   "source": [
    "### 앞의 방정식으로 계산한 z값 출력"
   ]
  },
  {
   "cell_type": "code",
   "execution_count": 49,
   "id": "97cb0978-6f3d-44de-917b-2887c4ae8ab3",
   "metadata": {
    "tags": []
   },
   "outputs": [
    {
     "name": "stdout",
     "output_type": "stream",
     "text": [
      "[-6.02927744  3.57123907 -5.26568906 -4.24321775 -6.0607117 ]\n"
     ]
    }
   ],
   "source": [
    "decision = lr.decision_function(train_bream_smelt[:5])\n",
    "print(decision)"
   ]
  },
  {
   "cell_type": "markdown",
   "id": "9e43447b-baf5-4a0b-9eed-c49bed986598",
   "metadata": {},
   "source": [
    "#### 앞의 z값을 시그모이드 함수에 통과시켜 확률을 알아보기"
   ]
  },
  {
   "cell_type": "code",
   "execution_count": 52,
   "id": "404c5431-a7a6-429f-b18a-e9131b656eaf",
   "metadata": {
    "tags": []
   },
   "outputs": [
    {
     "name": "stdout",
     "output_type": "stream",
     "text": [
      "[0.00240145 0.97264817 0.00513928 0.01415798 0.00232731]\n"
     ]
    }
   ],
   "source": [
    "# Scipi 라이브러리에 시그모이드 함수 활용: expit()\n",
    "from scipy.special import expit\n",
    "print(expit(decision))"
   ]
  },
  {
   "cell_type": "markdown",
   "id": "335eb1bf-4a87-4f93-8fc6-f71b594d31ef",
   "metadata": {},
   "source": [
    "## 7. 로지스틱 회귀로 다중 분류 수행하기"
   ]
  },
  {
   "cell_type": "code",
   "execution_count": 56,
   "id": "735d873e-4b07-4443-b6a4-ceabfdef514d",
   "metadata": {
    "tags": []
   },
   "outputs": [
    {
     "name": "stdout",
     "output_type": "stream",
     "text": [
      "0.9327731092436975\n",
      "0.925\n"
     ]
    }
   ],
   "source": [
    "# 로지스틱 회귀는 반복적인 알고리즘을 사용하여 학습(max_iter 속성 사용)\n",
    "# c : 규재 양을 조절하는 값, 기본값은 1, 값이 작을수록 규제가 커짐.\n",
    "lr = LogisticRegression(C=20, max_iter=1000)\n",
    "lr.fit(train_scaled, train_target)\n",
    "print(lr.score(train_scaled, train_target))\n",
    "print(lr.score(test_scaled, test_target))"
   ]
  },
  {
   "cell_type": "code",
   "execution_count": 57,
   "id": "575545a5-b00c-4ac0-a9d9-03b8fade040d",
   "metadata": {
    "tags": []
   },
   "outputs": [
    {
     "name": "stdout",
     "output_type": "stream",
     "text": [
      "['Perch' 'Smelt' 'Pike' 'Roach' 'Perch']\n"
     ]
    }
   ],
   "source": [
    "# 처음 5개 샘플에 대해 예측\n",
    "print(lr.predict(test_scaled[:5]))"
   ]
  },
  {
   "cell_type": "code",
   "execution_count": 58,
   "id": "2380f52b-b14f-49d4-b005-14e0a953dfd4",
   "metadata": {
    "tags": []
   },
   "outputs": [
    {
     "name": "stdout",
     "output_type": "stream",
     "text": [
      "['Perch' 'Smelt' 'Pike' 'Whitefish' 'Perch']\n"
     ]
    }
   ],
   "source": [
    "print(test_target[:5])"
   ]
  },
  {
   "cell_type": "code",
   "execution_count": 61,
   "id": "1775b9be-30af-4699-b265-b9d8b1737ac9",
   "metadata": {
    "tags": []
   },
   "outputs": [
    {
     "name": "stdout",
     "output_type": "stream",
     "text": [
      "[[0.    0.014 0.841 0.    0.136 0.007 0.003]\n",
      " [0.    0.003 0.044 0.    0.007 0.946 0.   ]\n",
      " [0.    0.    0.034 0.935 0.015 0.016 0.   ]\n",
      " [0.011 0.034 0.306 0.007 0.567 0.    0.076]\n",
      " [0.    0.    0.904 0.002 0.089 0.002 0.001]]\n"
     ]
    }
   ],
   "source": [
    "# 처음 5개 샘플의 예측 확률 출력\n",
    "proba = lr.predict_proba(test_scaled[:5])\n",
    "print(np.round(proba, decimals=3))"
   ]
  },
  {
   "cell_type": "code",
   "execution_count": 62,
   "id": "e7f11c88-8717-42eb-bc1d-fa4ebd54409f",
   "metadata": {
    "tags": []
   },
   "outputs": [
    {
     "data": {
      "text/plain": [
       "array(['Bream', 'Parkki', 'Perch', 'Pike', 'Roach', 'Smelt', 'Whitefish'],\n",
       "      dtype=object)"
      ]
     },
     "execution_count": 62,
     "metadata": {},
     "output_type": "execute_result"
    }
   ],
   "source": [
    "lr.classes_"
   ]
  },
  {
   "cell_type": "code",
   "execution_count": 64,
   "id": "27022846-0a29-4d71-b378-bb21950b14fa",
   "metadata": {
    "tags": []
   },
   "outputs": [
    {
     "name": "stdout",
     "output_type": "stream",
     "text": [
      "(7, 5) (7,)\n"
     ]
    }
   ],
   "source": [
    "### coef_, intercept_ 의 크기 출력\n",
    "print(lr.coef_.shape, lr.intercept_.shape)"
   ]
  },
  {
   "cell_type": "markdown",
   "id": "dc3a9a16-bb9d-4da8-9587-9def2c28b97d",
   "metadata": {},
   "source": [
    "#### 5개의 특성에 대해 각 클래스 별로 7번 z값 계산."
   ]
  },
  {
   "cell_type": "markdown",
   "id": "483fedf6-c3dc-41e4-9237-f52afa50b727",
   "metadata": {},
   "source": [
    "#### 소프트맥스 함수를 이용해 7개의 z값을 한번에 확률로 변환"
   ]
  },
  {
   "cell_type": "code",
   "execution_count": 67,
   "id": "44fbf3b4-253d-4817-a474-84052c12082c",
   "metadata": {
    "tags": []
   },
   "outputs": [
    {
     "name": "stdout",
     "output_type": "stream",
     "text": [
      "[[ -6.5    1.03   5.16  -2.73   3.34   0.33  -0.63]\n",
      " [-10.86   1.93   4.77  -2.4    2.98   7.84  -4.26]\n",
      " [ -4.34  -6.23   3.17   6.49   2.36   2.42  -3.87]\n",
      " [ -0.68   0.45   2.65  -1.19   3.26  -5.75   1.26]\n",
      " [ -6.4   -1.99   5.82  -0.11   3.5   -0.11  -0.71]]\n"
     ]
    }
   ],
   "source": [
    "# 첫번째 5개의 z값 산출\n",
    "decision = lr.decision_function(test_scaled[:5])\n",
    "print(np.round(decision, decimals=2))"
   ]
  },
  {
   "cell_type": "code",
   "execution_count": 69,
   "id": "3aa3d883-a442-4bcd-8083-1f8a0756fd37",
   "metadata": {
    "tags": []
   },
   "outputs": [
    {
     "name": "stdout",
     "output_type": "stream",
     "text": [
      "[[0.    0.014 0.841 0.    0.136 0.007 0.003]\n",
      " [0.    0.003 0.044 0.    0.007 0.946 0.   ]\n",
      " [0.    0.    0.034 0.935 0.015 0.016 0.   ]\n",
      " [0.011 0.034 0.306 0.007 0.567 0.    0.076]\n",
      " [0.    0.    0.904 0.002 0.089 0.002 0.001]]\n"
     ]
    }
   ],
   "source": [
    "# 소프트 맥스 함수 사용하여 확률 계산\n",
    "from scipy.special import softmax\n",
    "proba = softmax(decision, axis=1)\n",
    "print(np.round(proba, decimals=3))"
   ]
  },
  {
   "cell_type": "markdown",
   "id": "d1b316a5-d967-4d70-95ef-a2dec27ac03c",
   "metadata": {},
   "source": [
    "## 8. SGDClassifier (확률적 경사 하강법)"
   ]
  },
  {
   "cell_type": "markdown",
   "id": "82a80a9a-55cb-4f56-9b07-31b396b1a0e8",
   "metadata": {},
   "source": [
    "### 데이터 준비"
   ]
  },
  {
   "cell_type": "code",
   "execution_count": 70,
   "id": "3b5793f0-411b-4831-8f5f-a44dc0d4d540",
   "metadata": {
    "tags": []
   },
   "outputs": [
    {
     "name": "stdout",
     "output_type": "stream",
     "text": [
      "  Species  Weight  Length  Diagonal   Height   Width\n",
      "0   Bream   242.0    25.4      30.0  11.5200  4.0200\n",
      "1   Bream   290.0    26.3      31.2  12.4800  4.3056\n",
      "2   Bream   340.0    26.5      31.1  12.3778  4.6961\n",
      "3   Bream   363.0    29.0      33.5  12.7300  4.4555\n",
      "4   Bream   430.0    29.0      34.0  12.4440  5.1340\n"
     ]
    }
   ],
   "source": [
    "import pandas as pd\n",
    "fish = pd.read_csv('https://bit.ly/fish_csv_data')\n",
    "print(fish[:5])"
   ]
  },
  {
   "cell_type": "code",
   "execution_count": 73,
   "id": "1ee9092b-a5f4-49b9-9fab-22df7f403e09",
   "metadata": {
    "tags": []
   },
   "outputs": [],
   "source": [
    "fish_input = fish[['Weight', 'Length', 'Diagonal', 'Height', 'Width']].to_numpy()\n",
    "fish_target = fish['Species'].to_numpy()"
   ]
  },
  {
   "cell_type": "code",
   "execution_count": 74,
   "id": "92febc5d-4b4f-404a-b3bd-25642a2b9dd3",
   "metadata": {
    "tags": []
   },
   "outputs": [],
   "source": [
    "# 훈련 세트와 테스트 세트로 나눔\n",
    "from sklearn.model_selection import train_test_split\n",
    "train_input, test_input, train_target, test_target = train_test_split(fish_input, fish_target, random_state=42)"
   ]
  },
  {
   "cell_type": "code",
   "execution_count": 75,
   "id": "e9221c9b-d995-4b94-aeee-923fa298a03c",
   "metadata": {
    "tags": []
   },
   "outputs": [],
   "source": [
    "# 표준화 처리 \n",
    "from sklearn.preprocessing import StandardScaler\n",
    "ss = StandardScaler()\n",
    "ss.fit(train_input)\n",
    "train_scale = ss.transform(train_input)\n",
    "test_scaled = ss. transform(test_input)\n"
   ]
  },
  {
   "cell_type": "markdown",
   "id": "a1589671-d314-4e27-9da8-ec5b07376caf",
   "metadata": {},
   "source": [
    "### SGDClassifier를 사용한 훈련"
   ]
  },
  {
   "cell_type": "code",
   "execution_count": 87,
   "id": "440c737e-6618-4c3f-a0a1-f43c7795cb3c",
   "metadata": {
    "tags": []
   },
   "outputs": [
    {
     "name": "stdout",
     "output_type": "stream",
     "text": [
      "0.8151260504201681\n",
      "0.875\n"
     ]
    }
   ],
   "source": [
    "# 2개의 매개변수 : \n",
    "# loss - 손실함수 종류 지정 (log_loss)\n",
    "# max_iter - 수행할 반복(에포크) 횟수 지정(10)\n",
    "from sklearn.linear_model import SGDClassifier\n",
    "sc = SGDClassifier(loss = 'log_loss', max_iter=10, random_state=42, tol=None)\n",
    "sc.fit(train_scaled, train_target)\n",
    "print(sc.score(train_scaled, train_target))\n",
    "print(sc.score(test_scaled, test_target))"
   ]
  },
  {
   "cell_type": "markdown",
   "id": "ec3e0a86-9237-493d-a36d-08a5d1bf388c",
   "metadata": {},
   "source": [
    "### SGDClassifier를 사용한 점진적 학습"
   ]
  },
  {
   "cell_type": "code",
   "execution_count": 81,
   "id": "7f3000a1-0f98-498c-8882-8d6711b351e1",
   "metadata": {
    "tags": []
   },
   "outputs": [
    {
     "name": "stdout",
     "output_type": "stream",
     "text": [
      "0.8151260504201681\n",
      "0.85\n"
     ]
    }
   ],
   "source": [
    "sc.partial_fit(train_scaled, train_target)\n",
    "print(sc.score(train_scaled, train_target))\n",
    "print(sc.score(test_scaled, test_target))"
   ]
  },
  {
   "cell_type": "markdown",
   "id": "e61d13af-d22d-4cc3-9df5-a4e579b0f213",
   "metadata": {},
   "source": [
    "### 에포크의 횟수에 따라 모델의 정확도 그래프 그리기"
   ]
  },
  {
   "cell_type": "code",
   "execution_count": 83,
   "id": "22b8f0bb-990c-433e-935e-666e4bdeb81c",
   "metadata": {
    "tags": []
   },
   "outputs": [],
   "source": [
    "# 300번의 에포크 실행\n",
    "import numpy as np\n",
    "sc = SGDClassifier(loss='log_loss', random_state = 42)\n",
    "train_score = []\n",
    "test_score = []\n",
    "classes = np.unique(train_target)\n",
    "\n",
    "for _ in range(0,300):\n",
    "    sc.partial_fit(train_scaled, train_target, classes=classes)\n",
    "    train_score.append(sc.score(train_scaled, train_target))\n",
    "    test_score.append(sc.score(test_scaled, test_target))"
   ]
  },
  {
   "cell_type": "markdown",
   "id": "20b122f5-d721-43c0-ac05-1fad32136b1e",
   "metadata": {},
   "source": [
    "### 그래프 그리기 "
   ]
  },
  {
   "cell_type": "code",
   "execution_count": 84,
   "id": "4781221a-2899-446f-a4d0-0e3809da5ca0",
   "metadata": {
    "tags": []
   },
   "outputs": [
    {
     "data": {
      "image/png": "[encoded data removed]",
      "text/plain": [
       "<Figure size 640x480 with 1 Axes>"
      ]
     },
     "metadata": {},
     "output_type": "display_data"
    }
   ],
   "source": [
    "import matplotlib.pyplot as plt\n",
    "plt.plot(train_score)\n",
    "plt.plot(test_score)\n",
    "plt.xlabel('epoch')\n",
    "plt.ylabel('accuracy')\n",
    "plt.show()"
   ]
  },
  {
   "cell_type": "markdown",
   "id": "9036a425-fc6b-4a93-998a-4d82ff9ef7c6",
   "metadata": {},
   "source": [
    "#### 파란색선 - 훈련세트 그래프, 주황색 선 - 테스트 세트 그래프\n",
    "#### 초기에는 과소적합이었다가 100번째 스포크 이후에 점수가 조금씩 벌어짐\n",
    "#### 이 모델의 경우 백번의 에포크가 적절한 반복 횟수임."
   ]
  },
  {
   "cell_type": "code",
   "execution_count": 88,
   "id": "f1856e2b-4b58-422b-92ab-314b6e0c819a",
   "metadata": {
    "tags": []
   },
   "outputs": [
    {
     "name": "stdout",
     "output_type": "stream",
     "text": [
      "0.957983193277311\n",
      "0.925\n"
     ]
    }
   ],
   "source": [
    "# tol = 일정 에포크 동안 성능이 향상되지 않으면 훈련을 자동으로 멈추는 옵션\n",
    "sc = SGDClassifier(loss = 'log_loss', max_iter=100, random_state=42, tol=None)\n",
    "sc.fit(train_scaled, train_target)\n",
    "print(sc.score(train_scaled, train_target))\n",
    "print(sc.score(test_scaled, test_target))"
   ]
  },
  {
   "cell_type": "code",
   "execution_count": null,
   "id": "511e42d9-efa0-46f6-bf46-891cde7a5efd",
   "metadata": {},
   "outputs": [],
   "source": []
  }
 ],
 "metadata": {
  "kernelspec": {
   "display_name": "Python 3 (ipykernel)",
   "language": "python",
   "name": "python3"
  },
  "language_info": {
   "codemirror_mode": {
    "name": "ipython",
    "version": 3
   },
   "file_extension": ".py",
   "mimetype": "text/x-python",
   "name": "python",
   "nbconvert_exporter": "python",
   "pygments_lexer": "ipython3",
   "version": "3.11.5"
  }
 },
 "nbformat": 4,
 "nbformat_minor": 5
}
