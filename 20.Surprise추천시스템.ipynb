{
 "cells": [
  {
   "cell_type": "markdown",
   "id": "52d715a7-0c40-4152-8cbe-febdf1107849",
   "metadata": {
    "tags": []
   },
   "source": [
    "# Surprise 라이브러리를 사용한 추천시스템"
   ]
  },
  {
   "cell_type": "markdown",
   "id": "7dee0b50-d3bb-446e-bc60-eb61ea8f297c",
   "metadata": {},
   "source": [
    "## Surprise\n",
    "### - 파이썬 기반 추천시스템 구축을 위한 전용패키지\n",
    "### - 사이킷런과 유사한 API와 프레임워크 제공"
   ]
  },
  {
   "cell_type": "markdown",
   "id": "42ad3631-1d47-4cf7-9aef-717ee088b080",
   "metadata": {},
   "source": [
    "## 1. Surprise 설치"
   ]
  },
  {
   "cell_type": "markdown",
   "id": "8b3a1560-68e3-44d1-9c1e-ff889b87c3ae",
   "metadata": {},
   "source": [
    "### pip install scikit-surprise\n",
    "### 또는\n",
    "### conda install -C conda-forge scikit-surprise"
   ]
  },
  {
   "cell_type": "markdown",
   "id": "1facb1d5-6379-4e5a-bec5-f1a3b5748847",
   "metadata": {},
   "source": [
    "### 설치시 다음과 같은 오류 발생하는경우\n",
    "### Microsoft Visual C++ 14.0 , C++를 사용한 데스크톱 개발 설치\n",
    "### https://visualstudio.microsoft.com/ko/vs/community/\n"
   ]
  },
  {
   "cell_type": "markdown",
   "id": "82a4f1b7-66fe-431f-8675-63caed3f7da9",
   "metadata": {},
   "source": [
    "## 2.Surprise 클래스 사용법"
   ]
  },
  {
   "cell_type": "markdown",
   "id": "35f4e99c-0acb-473b-bb6e-407e65206a89",
   "metadata": {},
   "source": [
    "### (1)  관련모듈 import"
   ]
  },
  {
   "cell_type": "code",
   "execution_count": 3,
   "id": "c1c0632a-ce70-49c1-b853-86f027225741",
   "metadata": {
    "tags": []
   },
   "outputs": [],
   "source": [
    "from surprise import SVD\n",
    "from surprise import Dataset\n",
    "from surprise import accuracy\n",
    "from surprise.model_selection import train_test_split"
   ]
  },
  {
   "cell_type": "markdown",
   "id": "0bc896a8-593b-494c-8a88-f0794b67745d",
   "metadata": {},
   "source": [
    "### (2) Surprise 사용법 익히기"
   ]
  },
  {
   "cell_type": "markdown",
   "id": "48ac9d47-3803-4a98-901e-4f04e35b9120",
   "metadata": {},
   "source": [
    "#### sample data : Surprise 패키지에서 movielens 사이트에서 제공하는 과거 영화데이터 세트 제공\n",
    "#### ml-100k (10만개의 평점 데이터 포함)"
   ]
  },
  {
   "cell_type": "code",
   "execution_count": 8,
   "id": "045a337f-ef37-40dd-8320-f96f0fe0a878",
   "metadata": {
    "tags": []
   },
   "outputs": [
    {
     "name": "stdout",
     "output_type": "stream",
     "text": [
      "Dataset ml-100k could not be found. Do you want to download it? [Y/n] "
     ]
    },
    {
     "name": "stdin",
     "output_type": "stream",
     "text": [
      " y\n"
     ]
    },
    {
     "name": "stdout",
     "output_type": "stream",
     "text": [
      "Trying to download dataset from https://files.grouplens.org/datasets/movielens/ml-100k.zip...\n",
      "Done! Dataset ml-100k has been saved to C:\\Users\\602-01/.surprise_data/ml-100k\n"
     ]
    }
   ],
   "source": [
    "# 패키지에 포함된 내장 데이터 읽기\n",
    "data = Dataset.load_builtin('ml-100k')\n",
    "train_set, test_set = train_test_split(data, test_size=.25, random_state=0)"
   ]
  },
  {
   "cell_type": "code",
   "execution_count": 9,
   "id": "425805ae-89d7-4184-8bb8-675de540f0b2",
   "metadata": {
    "tags": []
   },
   "outputs": [
    {
     "data": {
      "text/plain": [
       "<surprise.prediction_algorithms.matrix_factorization.SVD at 0x26810087950>"
      ]
     },
     "execution_count": 9,
     "metadata": {},
     "output_type": "execute_result"
    }
   ],
   "source": [
    "# 경사적 하강법 알고리즘으로 학습\n",
    "svd = SVD(random_state=0)\n",
    "svd.fit(train_set)"
   ]
  },
  {
   "cell_type": "code",
   "execution_count": 11,
   "id": "acb5d679-8d95-4791-a380-207fa73bcc7d",
   "metadata": {
    "tags": []
   },
   "outputs": [
    {
     "name": "stdout",
     "output_type": "stream",
     "text": [
      "prediction_type :  <class 'list'>  size: 25000\n",
      "prdiction 결과 최초 5개 추출 : \n"
     ]
    },
    {
     "data": {
      "text/plain": [
       "[Prediction(uid='120', iid='282', r_ui=4.0, est=3.5114147666251547, details={'was_impossible': False}),\n",
       " Prediction(uid='882', iid='291', r_ui=4.0, est=3.573872419581491, details={'was_impossible': False}),\n",
       " Prediction(uid='535', iid='507', r_ui=5.0, est=4.033583485472447, details={'was_impossible': False}),\n",
       " Prediction(uid='697', iid='244', r_ui=5.0, est=3.8463639495936905, details={'was_impossible': False}),\n",
       " Prediction(uid='751', iid='385', r_ui=4.0, est=3.1807542478219157, details={'was_impossible': False})]"
      ]
     },
     "execution_count": 11,
     "metadata": {},
     "output_type": "execute_result"
    }
   ],
   "source": [
    "# 전체 데이터 세트에 대한 예측: test()\n",
    "predictions = svd.test(test_set)\n",
    "print('prediction_type : ', type(predictions), ' size:', len(predictions))\n",
    "print('prdiction 결과 최초 5개 추출 : ')\n",
    "predictions[:5]"
   ]
  },
  {
   "cell_type": "markdown",
   "id": "6729898c-944d-4f2a-807a-b6302a682233",
   "metadata": {},
   "source": [
    "#### predictions 컬럼 의미\n",
    "#### uid: 사용자 아이디\n",
    "#### iid: 영화 아이디\n",
    "#### r_ui: 실제 평점\n",
    "#### est: 예측 평점\n",
    "#### was_impossible 이 'True'이면 추천 예측값을 생성할 수 없는 데이터"
   ]
  },
  {
   "cell_type": "code",
   "execution_count": 12,
   "id": "7f8522c3-2b07-47eb-a2b5-c64d14165d2b",
   "metadata": {
    "tags": []
   },
   "outputs": [
    {
     "data": {
      "text/plain": [
       "[('120', '282', 3.5114147666251547),\n",
       " ('882', '291', 3.573872419581491),\n",
       " ('535', '507', 4.033583485472447)]"
      ]
     },
     "execution_count": 12,
     "metadata": {},
     "output_type": "execute_result"
    }
   ],
   "source": [
    "# predictions 객체에서 uid, iid, est 속성 추출\n",
    "[(pred.uid, pred.iid, pred.est) for pred in predictions[:3]]"
   ]
  },
  {
   "cell_type": "code",
   "execution_count": 13,
   "id": "b4b171a8-78ec-45b3-92df-a34c39514c3c",
   "metadata": {
    "tags": []
   },
   "outputs": [
    {
     "name": "stdout",
     "output_type": "stream",
     "text": [
      "user: 196        item: 302        r_ui = None   est = 4.49   {'was_impossible': False}\n"
     ]
    }
   ],
   "source": [
    "# 임의의 사용자로 추천 예측\n",
    "uid = str(196)\n",
    "iid = str(302)\n",
    "pred = svd.predict(uid, iid)\n",
    "print(pred)"
   ]
  },
  {
   "cell_type": "markdown",
   "id": "0de80a59-7cfb-4e64-be3e-c6c1bb645dc2",
   "metadata": {},
   "source": [
    "#### predict()는 개별 사용자와 아이템 정보를 입력하면 예측평점을 est로 반환"
   ]
  },
  {
   "cell_type": "markdown",
   "id": "b646b4d0-4a55-4e5a-8ccb-913d2bb97282",
   "metadata": {},
   "source": [
    "#### 추천 예측평점과 실제 평점 사이의 평가"
   ]
  },
  {
   "cell_type": "markdown",
   "id": "1c4d1277-12e5-4461-9fb7-c8e95ca60004",
   "metadata": {},
   "source": [
    "#### rmse() 사용 - Root Mean Sqouard Error(평균 제곱근 오차)"
   ]
  },
  {
   "cell_type": "code",
   "execution_count": 14,
   "id": "7d6ea2d0-4ce1-4063-b342-6dca76004a8a",
   "metadata": {
    "tags": []
   },
   "outputs": [
    {
     "name": "stdout",
     "output_type": "stream",
     "text": [
      "RMSE: 0.9467\n"
     ]
    },
    {
     "data": {
      "text/plain": [
       "0.9466860806937948"
      ]
     },
     "execution_count": 14,
     "metadata": {},
     "output_type": "execute_result"
    }
   ],
   "source": [
    "accuracy.rmse(predictions)"
   ]
  },
  {
   "cell_type": "markdown",
   "id": "82da8cbc-84df-4bf6-aef3-04e49c719df2",
   "metadata": {},
   "source": [
    "### 로컬 컴퓨터의 데이터를 로딩하여 테스트"
   ]
  },
  {
   "cell_type": "code",
   "execution_count": 20,
   "id": "c0e7b887-1c56-4940-9e1f-9a5bd9ac01ef",
   "metadata": {
    "tags": []
   },
   "outputs": [],
   "source": [
    "import pandas as pd\n",
    "\n",
    "ratings = pd.read_csv('./ml-latest-small/ratings.csv')\n",
    "# Surprise 패키지에서 사용시 인덱스와 헤더 모두 제거하여 사용\n",
    "ratings.to_csv('./ml-latest-small/ratings_noh.csv', index=False, header=False)"
   ]
  },
  {
   "cell_type": "code",
   "execution_count": 21,
   "id": "a8b70689-1f4c-4653-8898-e4890793ddd7",
   "metadata": {
    "tags": []
   },
   "outputs": [],
   "source": [
    "# Dataset 로드\n",
    "from surprise import Reader\n",
    "\n",
    "reader = Reader(line_format='user item rating timestamp', sep=',', rating_scale=(0.5, 5.0))\n",
    "data = Dataset.load_from_file('./ml-latest-small/ratings_noh.csv', reader=reader)"
   ]
  },
  {
   "cell_type": "markdown",
   "id": "240af475-af62-464b-850f-828a764c29de",
   "metadata": {},
   "source": [
    "#### SVD를 이용한 추천 예측"
   ]
  },
  {
   "cell_type": "code",
   "execution_count": 23,
   "id": "048cc210-8172-409f-b2b2-edef2e4c3f5e",
   "metadata": {
    "tags": []
   },
   "outputs": [
    {
     "name": "stdout",
     "output_type": "stream",
     "text": [
      "RMSE: 0.8682\n"
     ]
    },
    {
     "data": {
      "text/plain": [
       "0.8681952927143516"
      ]
     },
     "execution_count": 23,
     "metadata": {},
     "output_type": "execute_result"
    }
   ],
   "source": [
    "train_set, test_set = train_test_split(data, test_size=0.25, random_state=0)\n",
    "# n_factors : 잠재요인 크기\n",
    "svd = SVD(n_factors=50, random_state=0)\n",
    "\n",
    "svd.fit(train_set)\n",
    "predictions = svd.test(test_set)\n",
    "accuracy.rmse(predictions)\n"
   ]
  },
  {
   "cell_type": "markdown",
   "id": "6d006927-659c-4f39-ab6e-c6d11b32f943",
   "metadata": {},
   "source": [
    "### 판다스 데이터프레임에서 데이터 세트 로딩할 경우"
   ]
  },
  {
   "cell_type": "code",
   "execution_count": 29,
   "id": "7663321a-56d2-4a95-9122-f16ee9ebfdfe",
   "metadata": {
    "tags": []
   },
   "outputs": [
    {
     "name": "stdout",
     "output_type": "stream",
     "text": [
      "RMSE: 0.8682\n"
     ]
    },
    {
     "data": {
      "text/plain": [
       "0.8681952927143516"
      ]
     },
     "execution_count": 29,
     "metadata": {},
     "output_type": "execute_result"
    }
   ],
   "source": [
    "import pandas as pd\n",
    "from surprise import Reader, Dataset\n",
    "\n",
    "ratings = pd.read_csv('./ml-latest-small/ratings.csv')\n",
    "reader = Reader(rating_scale=(0.5,5.0))\n",
    "\n",
    "data = Dataset.load_from_df(ratings[['userId', 'movieId', 'rating']], reader)\n",
    "train_set, test_set = train_test_split(data, test_size=0.25, random_state=0)\n",
    "\n",
    "svd= SVD(n_factors = 50, random_state=0)\n",
    "svd.fit(train_set)\n",
    "predictions = svd.test(test_set)\n",
    "accuracy.rmse(predictions)"
   ]
  },
  {
   "cell_type": "markdown",
   "id": "cad11ef7-5dbb-4888-9181-8263030db7a4",
   "metadata": {},
   "source": [
    "### (3) 교차검증과 하이퍼 파라미터 튜닝"
   ]
  },
  {
   "cell_type": "code",
   "execution_count": 31,
   "id": "cb6d0836-b715-4b28-addb-29edf95669e5",
   "metadata": {
    "tags": []
   },
   "outputs": [
    {
     "name": "stdout",
     "output_type": "stream",
     "text": [
      "Evaluating RMSE, MAE of algorithm SVD on 5 split(s).\n",
      "\n",
      "                  Fold 1  Fold 2  Fold 3  Fold 4  Fold 5  Mean    Std     \n",
      "RMSE (testset)    0.8791  0.8621  0.8712  0.8802  0.8798  0.8745  0.0070  \n",
      "MAE (testset)     0.6717  0.6637  0.6687  0.6760  0.6774  0.6715  0.0050  \n",
      "Fit time          0.97    0.98    1.00    0.98    0.97    0.98    0.01    \n",
      "Test time         0.25    0.11    0.11    0.13    0.11    0.14    0.06    \n"
     ]
    },
    {
     "data": {
      "text/plain": [
       "{'test_rmse': array([0.87912528, 0.86211047, 0.87119688, 0.88019938, 0.87978685]),\n",
       " 'test_mae': array([0.67168259, 0.66367929, 0.66873545, 0.67604441, 0.67736952]),\n",
       " 'fit_time': (0.967374324798584,\n",
       "  0.9798262119293213,\n",
       "  1.0041358470916748,\n",
       "  0.9773900508880615,\n",
       "  0.9677796363830566),\n",
       " 'test_time': (0.2543222904205322,\n",
       "  0.10766792297363281,\n",
       "  0.11070489883422852,\n",
       "  0.12662982940673828,\n",
       "  0.10688900947570801)}"
      ]
     },
     "execution_count": 31,
     "metadata": {},
     "output_type": "execute_result"
    }
   ],
   "source": [
    "from surprise.model_selection import cross_validate\n",
    "\n",
    "# 판다스 DataFrame에서 Surprise 데이터 세트로 로딩\n",
    "ratings = pd.read_csv('./ml-latest-small/ratings.csv')\n",
    "reader = Reader(rating_scale=(0.5,5.0))\n",
    "\n",
    "data = Dataset.load_from_df(ratings[['userId', 'movieId', 'rating']], reader)\n",
    "\n",
    "svd = SVD(random_state=0)\n",
    "cross_validate(svd, data, measures=['RMSE','MAE'], cv=5, verbose=True)"
   ]
  },
  {
   "cell_type": "code",
   "execution_count": 32,
   "id": "d70d1163-d449-4872-95a8-35ee7fb05c76",
   "metadata": {
    "tags": []
   },
   "outputs": [
    {
     "name": "stdout",
     "output_type": "stream",
     "text": [
      "0.8781767833719428\n",
      "{'n_epochs': 20, 'n_factors': 50}\n"
     ]
    }
   ],
   "source": [
    "# 경사하강법을 사용하여 파라미터 튜닝\n",
    "from surprise.model_selection import GridSearchCV\n",
    "\n",
    "#최적화할 파라미터 \n",
    "param_grid = {'n_epochs' : [20, 40, 60], 'n_factors':[50, 100, 200]}\n",
    "              \n",
    "# CV를 3개의 폴드로 지정하고 rmse, mse 로 평가수행\n",
    "gs = GridSearchCV(SVD, param_grid, measures=['rmse','mse'], cv=3)\n",
    "gs.fit(data)\n",
    "\n",
    "# 최고의 RMSE 평가 점수 출력\n",
    "print(gs.best_score['rmse'])\n",
    "print(gs.best_params['rmse'])"
   ]
  },
  {
   "cell_type": "markdown",
   "id": "8d5584c4-af13-49c6-bcc2-624eec659a44",
   "metadata": {},
   "source": [
    "## 3. Surprise 를 사용한 개인화 영화 추천 시스템 구현"
   ]
  },
  {
   "cell_type": "markdown",
   "id": "2c9d635f-4e8d-4412-a54a-8354008ed402",
   "metadata": {},
   "source": [
    "#### ratings.csv 데이터를 학습 데이터, 테스트 데이터를 분리하지 않고 전체 데이터를 학습 데이터로 사용하려고 함.\n",
    "#### Surprise 라이브러리는 trina_test_split() 을 이용해야만 fit()으로 학습할 수 있음."
   ]
  },
  {
   "cell_type": "code",
   "execution_count": 34,
   "id": "da9ec3fd-36e5-45cc-84f1-4244a09aa2f4",
   "metadata": {
    "tags": []
   },
   "outputs": [
    {
     "ename": "AttributeError",
     "evalue": "'DatasetAutoFolds' object has no attribute 'n_users'",
     "output_type": "error",
     "traceback": [
      "\u001b[1;31m---------------------------------------------------------------------------\u001b[0m",
      "\u001b[1;31mAttributeError\u001b[0m                            Traceback (most recent call last)",
      "Cell \u001b[1;32mIn[34], line 4\u001b[0m\n\u001b[0;32m      2\u001b[0m data \u001b[38;5;241m=\u001b[39m Dataset\u001b[38;5;241m.\u001b[39mload_from_df(ratings[[\u001b[38;5;124m'\u001b[39m\u001b[38;5;124muserId\u001b[39m\u001b[38;5;124m'\u001b[39m, \u001b[38;5;124m'\u001b[39m\u001b[38;5;124mmovieId\u001b[39m\u001b[38;5;124m'\u001b[39m, \u001b[38;5;124m'\u001b[39m\u001b[38;5;124mrating\u001b[39m\u001b[38;5;124m'\u001b[39m]], reader)\n\u001b[0;32m      3\u001b[0m svd \u001b[38;5;241m=\u001b[39m SVD(n_factors\u001b[38;5;241m=\u001b[39m\u001b[38;5;241m50\u001b[39m, random_state\u001b[38;5;241m=\u001b[39m\u001b[38;5;241m0\u001b[39m)\n\u001b[1;32m----> 4\u001b[0m svd\u001b[38;5;241m.\u001b[39mfit(data)\n",
      "File \u001b[1;32m~\\anaconda3\\Lib\\site-packages\\surprise\\prediction_algorithms\\matrix_factorization.pyx:155\u001b[0m, in \u001b[0;36msurprise.prediction_algorithms.matrix_factorization.SVD.fit\u001b[1;34m()\u001b[0m\n",
      "File \u001b[1;32m~\\anaconda3\\Lib\\site-packages\\surprise\\prediction_algorithms\\matrix_factorization.pyx:196\u001b[0m, in \u001b[0;36msurprise.prediction_algorithms.matrix_factorization.SVD.sgd\u001b[1;34m()\u001b[0m\n",
      "\u001b[1;31mAttributeError\u001b[0m: 'DatasetAutoFolds' object has no attribute 'n_users'"
     ]
    }
   ],
   "source": [
    "# 다음의 코드는 오류가 발생함.\n",
    "data = Dataset.load_from_df(ratings[['userId', 'movieId', 'rating']], reader)\n",
    "svd = SVD(n_factors=50, random_state=0)\n",
    "svd.fit(data)"
   ]
  },
  {
   "cell_type": "markdown",
   "id": "a018111d-d46c-4511-8195-7f7b95983827",
   "metadata": {},
   "source": [
    "#### 데이터세트 전체를 학습 데이터로 사용하려면 DatasetAutoFolds 클래스 이용하여 전체데이터로 지정"
   ]
  },
  {
   "cell_type": "code",
   "execution_count": 78,
   "id": "1da05d85-f940-4204-999c-6dd3f5d8f86d",
   "metadata": {
    "tags": []
   },
   "outputs": [
    {
     "name": "stdout",
     "output_type": "stream",
     "text": [
      "<surprise.trainset.Trainset object at 0x0000026827574D10>\n"
     ]
    }
   ],
   "source": [
    "from surprise.dataset import DatasetAutoFolds\n",
    "\n",
    "reader = Reader(line_format = 'user item rating timestamp', sep=',', rating_scale=(0.5, 5.0))\n",
    "data_folds = DatasetAutoFolds(ratings_file='./ml-latest-small/ratings_noh.csv', reader=reader)\n",
    "\n",
    "# 전체데이터를 학습데이터로 생성\n",
    "trainset = data_folds.build_full_trainset()\n",
    "print(trainset)"
   ]
  },
  {
   "cell_type": "markdown",
   "id": "f8814fe2-1c12-47ee-84d2-3c41835906b6",
   "metadata": {},
   "source": [
    "#### 학습 수행"
   ]
  },
  {
   "cell_type": "code",
   "execution_count": 62,
   "id": "599132c3-57c2-4f03-a1d3-8d7b5fc85859",
   "metadata": {
    "tags": []
   },
   "outputs": [
    {
     "data": {
      "text/plain": [
       "<surprise.prediction_algorithms.matrix_factorization.SVD at 0x2681f2b1210>"
      ]
     },
     "execution_count": 62,
     "metadata": {},
     "output_type": "execute_result"
    }
   ],
   "source": [
    "svd = SVD(n_epochs=20, n_factors=50, random_state=0)\n",
    "svd.fit(trainset)"
   ]
  },
  {
   "cell_type": "markdown",
   "id": "4a6449b2-3bed-46a8-a861-5d1592f5a95e",
   "metadata": {},
   "source": [
    "### 특정 사용자의 보지 않은 영화의 평점 예측"
   ]
  },
  {
   "cell_type": "markdown",
   "id": "3e071f79-ee1d-478b-b53c-4988770358b6",
   "metadata": {},
   "source": [
    "#### 특정 사용자 : userId = 9, movieId = 42 지정하고 예측평점 계산"
   ]
  },
  {
   "cell_type": "code",
   "execution_count": 63,
   "id": "7e3dcb19-07cf-4a7b-8518-ac07a555168e",
   "metadata": {
    "tags": []
   },
   "outputs": [
    {
     "name": "stdout",
     "output_type": "stream",
     "text": [
      "사용자 ID 9는 영화 아이디 42의 평점 데이터 없음\n",
      "    movieId                   title              genres\n",
      "38       42  Dead Presidents (1995)  Action|Crime|Drama\n"
     ]
    }
   ],
   "source": [
    "# 영화 정보 데이터프레임 로딩\n",
    "movies = pd.read_csv('./ml-latest-small/movies.csv')\n",
    "#movies.head()\n",
    "\n",
    "# userId=9의 movieId 데이터 추출\n",
    "movieIds = ratings[ratings['userId'] == 9]['movieId']\n",
    "if movieIds[movieIds == 42].count() == 0:\n",
    "    print('사용자 ID 9는 영화 아이디 42의 평점 데이터 없음')\n",
    "\n",
    "print(movies[movies['movieId']==42])"
   ]
  },
  {
   "cell_type": "markdown",
   "id": "36722132-5f0a-4d53-9aa2-2af4805088a6",
   "metadata": {},
   "source": [
    "### 영화ID 42의 예측평점 구하기"
   ]
  },
  {
   "cell_type": "code",
   "execution_count": 64,
   "id": "36cb132e-205c-4361-a242-34b2cdd99a90",
   "metadata": {
    "tags": []
   },
   "outputs": [
    {
     "name": "stdout",
     "output_type": "stream",
     "text": [
      "user: 9          item: 42         r_ui = None   est = 3.13   {'was_impossible': False}\n"
     ]
    }
   ],
   "source": [
    "uid = str(9)\n",
    "iid = str(42)\n",
    "\n",
    "pred = svd.predict(uid, iid, verbose=True)"
   ]
  },
  {
   "cell_type": "markdown",
   "id": "d71bd549-1f8d-4d27-899a-40cbfadb3b9c",
   "metadata": {},
   "source": [
    "### 사용자가 평점을 매기지 않은 전체 영화를 추출하는 함수"
   ]
  },
  {
   "cell_type": "code",
   "execution_count": 69,
   "id": "78698c16-e4f7-441f-a6e4-bf645a9c3c8a",
   "metadata": {
    "tags": []
   },
   "outputs": [
    {
     "name": "stdout",
     "output_type": "stream",
     "text": [
      "평점 매긴 영화 수:  46 , 추천 대상 영화 수:  9696 , 전체 영화 수 :  9742\n"
     ]
    }
   ],
   "source": [
    "def get_unseen_surprise(ratings, movies, userId):\n",
    "    #매개변수의 userId 사용자가 평점을 매긴 영화리스트 추출\n",
    "    seen_movies = ratings[ratings['userId'] == userId]['movieId'].tolist()\n",
    "    \n",
    "    # 모든 영화의 movieId 를 리스트로 생성\n",
    "    total_movies = movies['movieId'].tolist()\n",
    "    \n",
    "    # 전체 영화 리스트 - 평점을 매긴 리스트 => 평점을 안 매긴 영화 리스트 \n",
    "    unseen_movies = [movie for movie in total_movies if movie not in seen_movies]\n",
    "    print('평점 매긴 영화 수: ', len(seen_movies), ', 추천 대상 영화 수: ', len(unseen_movies),\n",
    "          ', 전체 영화 수 : ', len(total_movies))\n",
    "    return unseen_movies\n",
    "unseen_movies = get_unseen_surprise(ratings, movies, 9)"
   ]
  },
  {
   "cell_type": "markdown",
   "id": "af409da6-dd19-49dd-accf-141f80acd4be",
   "metadata": {},
   "source": [
    "### 평점을 안매긴 영화에 대해 예측 평점순으로 정렬후 n개 추천"
   ]
  },
  {
   "cell_type": "code",
   "execution_count": 75,
   "id": "602ad3bd-9d7d-49a4-a485-5b3c3872ab74",
   "metadata": {
    "tags": []
   },
   "outputs": [],
   "source": [
    "def recomm_movie_by_surprise(svd, userId, unseen_movies, top_n=10):\n",
    "    # svd 객체에 unseen_movies를 입력하여 예측평점 계산\n",
    "    predictions = [svd.predict(str(userId), str(movieId)) for movieId in unseen_movies]\n",
    "    #[Predictions(userId='9', movieId='1', est=3.5),....]\n",
    "    \n",
    "    def sortkey_est(pred):\n",
    "        return pred.est\n",
    "    \n",
    "    # sortkey_est() 변환값의 내림차순으로 정렬 수행\n",
    "    predictions.sort(key=sortkey_est, reverse=True)\n",
    "    \n",
    "    top_predictions = predictions[:top_n]\n",
    "    \n",
    "    # top_n으로 추출된 영화의 정보 추출 : iid => movieId\n",
    "    top_movie_ids = [int(pred.iid) for pred in top_predictions]\n",
    "    top_movie_rating = [pred.est for pred in top_predictions] # 예측 평점 리스트 추출\n",
    "    top_movie_titles = movies[movies.movieId.isin(top_movie_ids)]['title']\n",
    "    \n",
    "    top_movie_preds = [ (id, title, rating) for id, title, rating in zip(top_movie_ids, top_movie_titles, top_movie_rating)]\n",
    "    \n",
    "    return top_movie_preds\n"
   ]
  },
  {
   "cell_type": "code",
   "execution_count": 76,
   "id": "1eba71c4-c663-42c4-99df-7cec57a65bd0",
   "metadata": {
    "tags": []
   },
   "outputs": [
    {
     "name": "stdout",
     "output_type": "stream",
     "text": [
      "평점 매긴 영화 수:  46 , 추천 대상 영화 수:  9696 , 전체 영화 수 :  9742\n",
      "#### Top-10 추천 영화 리트스 ####\n",
      "Usual Suspects, The (1995) : 4.306302135700814\n",
      "Star Wars: Episode IV - A New Hope (1977) : 4.281663842987387\n",
      "Pulp Fiction (1994) : 4.278152632122759\n",
      "Silence of the Lambs, The (1991) : 4.226073566460876\n",
      "Godfather, The (1972) : 4.1918097904381995\n",
      "Streetcar Named Desire, A (1951) : 4.154746591122658\n",
      "Star Wars: Episode V - The Empire Strikes Back (1980) : 4.122016128534504\n",
      "Star Wars: Episode VI - Return of the Jedi (1983) : 4.108009609093436\n",
      "Goodfellas (1990) : 4.083464936588478\n",
      "Glory (1989) : 4.07887165526957\n"
     ]
    }
   ],
   "source": [
    "# 사용자Id가 9인 사용자의 10개 영화 추천\n",
    "unseen_movies = get_unseen_surprise(ratings, movies, 9)\n",
    "top_movie_preds = recomm_movie_by_surprise(svd, 9, unseen_movies, top_n=10)\n",
    "\n",
    "print('#### Top-10 추천 영화 리트스 ####')\n",
    "for top_movie in top_movie_preds:\n",
    "    print(top_movie[1], \":\" , top_movie[2])"
   ]
  },
  {
   "cell_type": "code",
   "execution_count": null,
   "id": "5cbe865b-d84c-48a3-8215-8da0358f97b8",
   "metadata": {},
   "outputs": [],
   "source": [
    "|"
   ]
  }
 ],
 "metadata": {
  "kernelspec": {
   "display_name": "Python 3 (ipykernel)",
   "language": "python",
   "name": "python3"
  },
  "language_info": {
   "codemirror_mode": {
    "name": "ipython",
    "version": 3
   },
   "file_extension": ".py",
   "mimetype": "text/x-python",
   "name": "python",
   "nbconvert_exporter": "python",
   "pygments_lexer": "ipython3",
   "version": "3.11.5"
  }
 },
 "nbformat": 4,
 "nbformat_minor": 5
}
