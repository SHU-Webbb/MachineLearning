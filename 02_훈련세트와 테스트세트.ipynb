{
 "cells": [
  {
   "cell_type": "markdown",
   "id": "a4ea0044-d9ff-424c-9a63-e8fa5722cf50",
   "metadata": {},
   "source": [
    "# 훈련세트와 테스트세트"
   ]
  },
  {
   "cell_type": "markdown",
   "id": "6bed4cd5-041a-4f09-bf43-ff1736c2def3",
   "metadata": {},
   "source": [
    "## 1. 데이터 준비"
   ]
  },
  {
   "cell_type": "markdown",
   "id": "f85ad002-1588-4d05-bd48-51c89a81cff6",
   "metadata": {},
   "source": [
    "### (1) 도미와 빙어 데이터를 합쳐 하나의 리스트로 준비"
   ]
  },
  {
   "cell_type": "code",
   "execution_count": 1,
   "id": "4cf8c977-ba05-400a-945b-148ce5d204fa",
   "metadata": {
    "tags": []
   },
   "outputs": [],
   "source": [
    "fish_length = [25.4, 26.3, 26.5, 29.0, 29.0, 29.7, 29.7, 30.0, 30.0, 30.7, 31.0, 31.0, \n",
    "                31.5, 32.0, 32.0, 32.0, 33.0, 33.0, 33.5, 33.5, 34.0, 34.0, 34.5, 35.0, \n",
    "                35.0, 35.0, 35.0, 36.0, 36.0, 37.0, 38.5, 38.5, 39.5, 41.0, 41.0,9.8, 10.5, 10.6, 11.0, 11.2, 11.3, 11.8, 11.8, 12.0, 12.2, 12.4, 13.0, 14.3, 15.0]\n",
    "fish_weight = [242.0, 290.0, 340.0, 363.0, 430.0, 450.0, 500.0, 390.0, 450.0, 500.0, 475.0, 500.0, \n",
    "                500.0, 340.0, 600.0, 600.0, 700.0, 700.0, 610.0, 650.0, 575.0, 685.0, 620.0, 680.0, \n",
    "                700.0, 725.0, 720.0, 714.0, 850.0, 1000.0, 920.0, 955.0, 925.0, 975.0, 950.0,6.7, 7.5, 7.0, 9.7, 9.8, 8.7, 10.0, 9.9, 9.8, 12.2, 13.4, 12.2, 19.7, 19.9]\n"
   ]
  },
  {
   "cell_type": "code",
   "execution_count": 2,
   "id": "82aada20-23e0-40e8-965e-971c8c105dac",
   "metadata": {
    "tags": []
   },
   "outputs": [],
   "source": [
    "fish_data = [[l, w] for l, w in zip(fish_length, fish_weight)]\n",
    "fish_target = [1] * 35 + [0] *14"
   ]
  },
  {
   "cell_type": "code",
   "execution_count": 3,
   "id": "03c51742-ab66-49a0-a8ff-e35510ea9b1d",
   "metadata": {
    "tags": []
   },
   "outputs": [
    {
     "name": "stdout",
     "output_type": "stream",
     "text": [
      "[1, 1, 1, 1, 1, 1, 1, 1, 1, 1, 1, 1, 1, 1, 1, 1, 1, 1, 1, 1, 1, 1, 1, 1, 1, 1, 1, 1, 1, 1, 1, 1, 1, 1, 1, 0, 0, 0, 0, 0, 0, 0, 0, 0, 0, 0, 0, 0, 0]\n"
     ]
    }
   ],
   "source": [
    "print(fish_target)"
   ]
  },
  {
   "cell_type": "markdown",
   "id": "e5660924-69f7-46a5-a40a-c11ea079cd13",
   "metadata": {},
   "source": [
    "#### k-최근접 이웃 클래스 객체 생성"
   ]
  },
  {
   "cell_type": "code",
   "execution_count": 4,
   "id": "0b4a19d0-18d0-4323-a7bd-5af17f1d7859",
   "metadata": {
    "tags": []
   },
   "outputs": [],
   "source": [
    "from sklearn.neighbors import KNeighborsClassifier\n",
    "kn = KNeighborsClassifier()"
   ]
  },
  {
   "cell_type": "code",
   "execution_count": 5,
   "id": "614e73b2-275a-40a7-b8bc-da6f0a24f24b",
   "metadata": {
    "tags": []
   },
   "outputs": [
    {
     "data": {
      "text/plain": [
       "[29.0, 430.0]"
      ]
     },
     "execution_count": 5,
     "metadata": {},
     "output_type": "execute_result"
    }
   ],
   "source": [
    "# fish_data의 다섯번째 샘플 출력\n",
    "fish_data[4]"
   ]
  },
  {
   "cell_type": "markdown",
   "id": "a75188d0-dad2-40ec-9306-724a6c9e053c",
   "metadata": {},
   "source": [
    "### (2) 훈련 세트와 테스트 세트 선택"
   ]
  },
  {
   "cell_type": "code",
   "execution_count": 6,
   "id": "fcfb5281-3a2d-4787-be20-79f1329d2bfe",
   "metadata": {
    "tags": []
   },
   "outputs": [],
   "source": [
    "# 훈련 세트로 입력값 0~34번 인덱스 사용\n",
    "train_input = fish_data[:35]\n",
    "train_target = fish_target[:35]"
   ]
  },
  {
   "cell_type": "code",
   "execution_count": 7,
   "id": "112ef442-7db1-4822-8087-938c58083c05",
   "metadata": {
    "tags": []
   },
   "outputs": [],
   "source": [
    "# 테스트 세트로 35번째부터 마지막 까지 선택\n",
    "test_input = fish_data[35:]\n",
    "test_target = fish_target[35:]"
   ]
  },
  {
   "cell_type": "code",
   "execution_count": 8,
   "id": "bcd38a15-be22-4223-9932-299978296b1f",
   "metadata": {
    "tags": []
   },
   "outputs": [
    {
     "data": {
      "text/plain": [
       "0.0"
      ]
     },
     "execution_count": 8,
     "metadata": {},
     "output_type": "execute_result"
    }
   ],
   "source": [
    "kn.fit(train_input, train_target) # 학습은 훈련 데이터로 수행\n",
    "kn.score(test_input, test_target) # 평가는 테스트 데이터로 수행"
   ]
  },
  {
   "cell_type": "markdown",
   "id": "5ffe758b-6728-47ca-a361-931b790d9bdf",
   "metadata": {},
   "source": [
    "#### 문제점\n",
    "#### 샘플링 편향이 발생함 - 훈련 세트에 방어가 하나도 존재하지 않아 옳바르게 분류할 수 없음"
   ]
  },
  {
   "cell_type": "markdown",
   "id": "7074aab8-ecfc-4004-839f-43a0c81835d6",
   "metadata": {},
   "source": [
    "### (4) 도미데이터와 빙어 데이터를 섞기 "
   ]
  },
  {
   "cell_type": "code",
   "execution_count": 9,
   "id": "1a75415f-d848-430a-94a6-74f775989a98",
   "metadata": {
    "tags": []
   },
   "outputs": [],
   "source": [
    "import numpy as np"
   ]
  },
  {
   "cell_type": "code",
   "execution_count": 10,
   "id": "fe6cd237-187f-4e69-8fe8-d10525c61e22",
   "metadata": {
    "tags": []
   },
   "outputs": [],
   "source": [
    "# 파이썬 리스트를 넘파이 배열로 변환\n",
    "\n",
    "input_arr = np.array(fish_data)\n",
    "target_arr = np.array(fish_target)\n"
   ]
  },
  {
   "cell_type": "markdown",
   "id": "c8695559-f50b-4858-9cfc-fa9738183985",
   "metadata": {},
   "source": [
    "### 인덱스를 섞어서 섞인 인덱스를 사용하여 훈련 세트와 테스트 세트로 준비"
   ]
  },
  {
   "cell_type": "code",
   "execution_count": 11,
   "id": "8b3fb906-f2b4-4251-b703-bba50ac212d3",
   "metadata": {
    "tags": []
   },
   "outputs": [],
   "source": [
    "np.random.seed(42)\n",
    "index = np.arange(49)\n",
    "np.random.shuffle(index)"
   ]
  },
  {
   "cell_type": "code",
   "execution_count": 17,
   "id": "fcb76ab4-9418-4038-bc97-2046f4d78fe0",
   "metadata": {
    "tags": []
   },
   "outputs": [],
   "source": [
    "train_input = input_arr[index[:35]]\n",
    "train_tartget = target_arr[index[:35]]       "
   ]
  },
  {
   "cell_type": "code",
   "execution_count": 18,
   "id": "dcb24036-eafd-4a90-82ae-d65cbd08a6af",
   "metadata": {
    "tags": []
   },
   "outputs": [],
   "source": [
    "### 나머지 14개를 테스트 세트로 만들기\n",
    "test_input = input_arr[index[35:]]\n",
    "test_target = target_arr[index[35:]]\n"
   ]
  },
  {
   "cell_type": "markdown",
   "id": "adbab36a-0160-4a95-a5a1-045ee9030b01",
   "metadata": {},
   "source": [
    "### 데이터가 잘 섞였는지 확인"
   ]
  },
  {
   "cell_type": "code",
   "execution_count": 19,
   "id": "384e2e9f-11aa-43e5-abc2-53ba6d84a269",
   "metadata": {
    "tags": []
   },
   "outputs": [
    {
     "data": {
      "image/png": "[encoded data removed]",
      "text/plain": [
       "<Figure size 640x480 with 1 Axes>"
      ]
     },
     "metadata": {},
     "output_type": "display_data"
    }
   ],
   "source": [
    "import matplotlib.pyplot as plt\n",
    "plt.scatter(train_input[:,0], train_input[:,1], label='train')\n",
    "plt.scatter(test_input[:,0], test_input[:,1], label='test')\n",
    "plt.legend(loc='lower right') # 범례는 오른 쪽 아래에 위치\n",
    "plt.xlabel('length')\n",
    "plt.ylabel('weight')\n",
    "plt.show()"
   ]
  },
  {
   "cell_type": "markdown",
   "id": "41a53c7f-e2f0-4989-b147-86f711653c0f",
   "metadata": {},
   "source": [
    "### (5) k-최근접 이웃 모델 훈련"
   ]
  },
  {
   "cell_type": "code",
   "execution_count": 20,
   "id": "6a32cf47-ea77-47d5-9a4e-fc86686aeaa5",
   "metadata": {
    "tags": []
   },
   "outputs": [
    {
     "data": {
      "text/html": [
       "<style>#sk-container-id-2 {color: black;}#sk-container-id-2 pre{padding: 0;}#sk-container-id-2 div.sk-toggleable {background-color: white;}#sk-container-id-2 label.sk-toggleable__label {cursor: pointer;display: block;width: 100%;margin-bottom: 0;padding: 0.3em;box-sizing: border-box;text-align: center;}#sk-container-id-2 label.sk-toggleable__label-arrow:before {content: \"▸\";float: left;margin-right: 0.25em;color: #696969;}#sk-container-id-2 label.sk-toggleable__label-arrow:hover:before {color: black;}#sk-container-id-2 div.sk-estimator:hover label.sk-toggleable__label-arrow:before {color: black;}#sk-container-id-2 div.sk-toggleable__content {max-height: 0;max-width: 0;overflow: hidden;text-align: left;background-color: #f0f8ff;}#sk-container-id-2 div.sk-toggleable__content pre {margin: 0.2em;color: black;border-radius: 0.25em;background-color: #f0f8ff;}#sk-container-id-2 input.sk-toggleable__control:checked~div.sk-toggleable__content {max-height: 200px;max-width: 100%;overflow: auto;}#sk-container-id-2 input.sk-toggleable__control:checked~label.sk-toggleable__label-arrow:before {content: \"▾\";}#sk-container-id-2 div.sk-estimator input.sk-toggleable__control:checked~label.sk-toggleable__label {background-color: #d4ebff;}#sk-container-id-2 div.sk-label input.sk-toggleable__control:checked~label.sk-toggleable__label {background-color: #d4ebff;}#sk-container-id-2 input.sk-hidden--visually {border: 0;clip: rect(1px 1px 1px 1px);clip: rect(1px, 1px, 1px, 1px);height: 1px;margin: -1px;overflow: hidden;padding: 0;position: absolute;width: 1px;}#sk-container-id-2 div.sk-estimator {font-family: monospace;background-color: #f0f8ff;border: 1px dotted black;border-radius: 0.25em;box-sizing: border-box;margin-bottom: 0.5em;}#sk-container-id-2 div.sk-estimator:hover {background-color: #d4ebff;}#sk-container-id-2 div.sk-parallel-item::after {content: \"\";width: 100%;border-bottom: 1px solid gray;flex-grow: 1;}#sk-container-id-2 div.sk-label:hover label.sk-toggleable__label {background-color: #d4ebff;}#sk-container-id-2 div.sk-serial::before {content: \"\";position: absolute;border-left: 1px solid gray;box-sizing: border-box;top: 0;bottom: 0;left: 50%;z-index: 0;}#sk-container-id-2 div.sk-serial {display: flex;flex-direction: column;align-items: center;background-color: white;padding-right: 0.2em;padding-left: 0.2em;position: relative;}#sk-container-id-2 div.sk-item {position: relative;z-index: 1;}#sk-container-id-2 div.sk-parallel {display: flex;align-items: stretch;justify-content: center;background-color: white;position: relative;}#sk-container-id-2 div.sk-item::before, #sk-container-id-2 div.sk-parallel-item::before {content: \"\";position: absolute;border-left: 1px solid gray;box-sizing: border-box;top: 0;bottom: 0;left: 50%;z-index: -1;}#sk-container-id-2 div.sk-parallel-item {display: flex;flex-direction: column;z-index: 1;position: relative;background-color: white;}#sk-container-id-2 div.sk-parallel-item:first-child::after {align-self: flex-end;width: 50%;}#sk-container-id-2 div.sk-parallel-item:last-child::after {align-self: flex-start;width: 50%;}#sk-container-id-2 div.sk-parallel-item:only-child::after {width: 0;}#sk-container-id-2 div.sk-dashed-wrapped {border: 1px dashed gray;margin: 0 0.4em 0.5em 0.4em;box-sizing: border-box;padding-bottom: 0.4em;background-color: white;}#sk-container-id-2 div.sk-label label {font-family: monospace;font-weight: bold;display: inline-block;line-height: 1.2em;}#sk-container-id-2 div.sk-label-container {text-align: center;}#sk-container-id-2 div.sk-container {/* jupyter's `normalize.less` sets `[hidden] { display: none; }` but bootstrap.min.css set `[hidden] { display: none !important; }` so we also need the `!important` here to be able to override the default hidden behavior on the sphinx rendered scikit-learn.org. See: https://github.com/scikit-learn/scikit-learn/issues/21755 */display: inline-block !important;position: relative;}#sk-container-id-2 div.sk-text-repr-fallback {display: none;}</style><div id=\"sk-container-id-2\" class=\"sk-top-container\"><div class=\"sk-text-repr-fallback\"><pre>KNeighborsClassifier()</pre><b>In a Jupyter environment, please rerun this cell to show the HTML representation or trust the notebook. <br />On GitHub, the HTML representation is unable to render, please try loading this page with nbviewer.org.</b></div><div class=\"sk-container\" hidden><div class=\"sk-item\"><div class=\"sk-estimator sk-toggleable\"><input class=\"sk-toggleable__control sk-hidden--visually\" id=\"sk-estimator-id-2\" type=\"checkbox\" checked><label for=\"sk-estimator-id-2\" class=\"sk-toggleable__label sk-toggleable__label-arrow\">KNeighborsClassifier</label><div class=\"sk-toggleable__content\"><pre>KNeighborsClassifier()</pre></div></div></div></div></div>"
      ],
      "text/plain": [
       "KNeighborsClassifier()"
      ]
     },
     "execution_count": 20,
     "metadata": {},
     "output_type": "execute_result"
    }
   ],
   "source": [
    "kn.fit(train_input, train_tartget)"
   ]
  },
  {
   "cell_type": "code",
   "execution_count": 21,
   "id": "305b4200-864e-4b8b-9be8-e931dcebe420",
   "metadata": {
    "tags": []
   },
   "outputs": [
    {
     "data": {
      "text/plain": [
       "1.0"
      ]
     },
     "execution_count": 21,
     "metadata": {},
     "output_type": "execute_result"
    }
   ],
   "source": [
    "kn.score(test_input, test_target)"
   ]
  },
  {
   "cell_type": "markdown",
   "id": "afb0757c-d50a-42f2-905c-e48817b75aa0",
   "metadata": {},
   "source": [
    "#### 길이가 25cm이고, 무게가 200g인 생선으로 예측하면 빙어로 판단함."
   ]
  },
  {
   "cell_type": "code",
   "execution_count": 22,
   "id": "dc935053-43b0-48ec-a669-28b2b802b095",
   "metadata": {},
   "outputs": [
    {
     "data": {
      "text/plain": [
       "array([0])"
      ]
     },
     "execution_count": 22,
     "metadata": {},
     "output_type": "execute_result"
    }
   ],
   "source": [
    "kn.predict([[25,150]])"
   ]
  },
  {
   "cell_type": "code",
   "execution_count": null,
   "id": "7b5ddeeb-ce02-48bd-8af8-303ec2af2c77",
   "metadata": {},
   "outputs": [],
   "source": []
  }
 ],
 "metadata": {
  "kernelspec": {
   "display_name": "Python 3 (ipykernel)",
   "language": "python",
   "name": "python3"
  },
  "language_info": {
   "codemirror_mode": {
    "name": "ipython",
    "version": 3
   },
   "file_extension": ".py",
   "mimetype": "text/x-python",
   "name": "python",
   "nbconvert_exporter": "python",
   "pygments_lexer": "ipython3",
   "version": "3.11.5"
  }
 },
 "nbformat": 4,
 "nbformat_minor": 5
}
