{
 "cells": [
  {
   "cell_type": "markdown",
   "id": "9944366c-cfc4-4533-ab69-3832a87e8f1f",
   "metadata": {},
   "source": [
    "# 특성 공학과 규제"
   ]
  },
  {
   "cell_type": "markdown",
   "id": "e2b5b2bd-0e4e-4fac-80a9-69ad0a3bc46f",
   "metadata": {},
   "source": [
    "### 해결할 문제\n",
    "#### (1) 논어의 길이, 길이 제곱한 데이터로 모델을 만들었지만, 훈련세트보다 테스트 세트 점수가 약간 높았음.\n",
    "#### (2) 선형 회기는 특성이 많을수록 효과가 크므로 길이, 높이, 두께를 적용하려고 함."
   ]
  },
  {
   "cell_type": "markdown",
   "id": "65053c6d-08d0-420b-8e59-db5ab09a0012",
   "metadata": {},
   "source": [
    "### 데이터 준비"
   ]
  },
  {
   "cell_type": "code",
   "execution_count": 3,
   "id": "deca3827-8c85-49cd-b55b-f7405734a317",
   "metadata": {
    "tags": []
   },
   "outputs": [
    {
     "data": {
      "text/plain": [
       "array([[ 8.4 ,  2.11,  1.41],\n",
       "       [13.7 ,  3.53,  2.  ],\n",
       "       [15.  ,  3.82,  2.43],\n",
       "       [16.2 ,  4.59,  2.63],\n",
       "       [17.4 ,  4.59,  2.94],\n",
       "       [18.  ,  5.22,  3.32],\n",
       "       [18.7 ,  5.2 ,  3.12],\n",
       "       [19.  ,  5.64,  3.05],\n",
       "       [19.6 ,  5.14,  3.04],\n",
       "       [20.  ,  5.08,  2.77],\n",
       "       [21.  ,  5.69,  3.56],\n",
       "       [21.  ,  5.92,  3.31],\n",
       "       [21.  ,  5.69,  3.67],\n",
       "       [21.3 ,  6.38,  3.53],\n",
       "       [22.  ,  6.11,  3.41],\n",
       "       [22.  ,  5.64,  3.52],\n",
       "       [22.  ,  6.11,  3.52],\n",
       "       [22.  ,  5.88,  3.52],\n",
       "       [22.  ,  5.52,  4.  ],\n",
       "       [22.5 ,  5.86,  3.62],\n",
       "       [22.5 ,  6.79,  3.62],\n",
       "       [22.7 ,  5.95,  3.63],\n",
       "       [23.  ,  5.22,  3.63],\n",
       "       [23.5 ,  6.28,  3.72],\n",
       "       [24.  ,  7.29,  3.72],\n",
       "       [24.  ,  6.38,  3.82],\n",
       "       [24.6 ,  6.73,  4.17],\n",
       "       [25.  ,  6.44,  3.68],\n",
       "       [25.6 ,  6.56,  4.24],\n",
       "       [26.5 ,  7.17,  4.14],\n",
       "       [27.3 ,  8.32,  5.14],\n",
       "       [27.5 ,  7.17,  4.34],\n",
       "       [27.5 ,  7.05,  4.34],\n",
       "       [27.5 ,  7.28,  4.57],\n",
       "       [28.  ,  7.82,  4.2 ],\n",
       "       [28.7 ,  7.59,  4.64],\n",
       "       [30.  ,  7.62,  4.77],\n",
       "       [32.8 , 10.03,  6.02],\n",
       "       [34.5 , 10.26,  6.39],\n",
       "       [35.  , 11.49,  7.8 ],\n",
       "       [36.5 , 10.88,  6.86],\n",
       "       [36.  , 10.61,  6.74],\n",
       "       [37.  , 10.84,  6.26],\n",
       "       [37.  , 10.57,  6.37],\n",
       "       [39.  , 11.14,  7.49],\n",
       "       [39.  , 11.14,  6.  ],\n",
       "       [39.  , 12.43,  7.35],\n",
       "       [40.  , 11.93,  7.11],\n",
       "       [40.  , 11.73,  7.22],\n",
       "       [40.  , 12.38,  7.46],\n",
       "       [40.  , 11.14,  6.63],\n",
       "       [42.  , 12.8 ,  6.87],\n",
       "       [43.  , 11.93,  7.28],\n",
       "       [43.  , 12.51,  7.42],\n",
       "       [43.5 , 12.6 ,  8.14],\n",
       "       [44.  , 12.49,  7.6 ]])"
      ]
     },
     "execution_count": 3,
     "metadata": {},
     "output_type": "execute_result"
    }
   ],
   "source": [
    "import pandas as pd\n",
    "df = pd.read_csv('https://bit.ly/perch_csv_data')\n",
    "perch_full = df.to_numpy()\n",
    "perch_full"
   ]
  },
  {
   "cell_type": "markdown",
   "id": "2b4d4356-d775-4e1b-b61c-caed05ba84cb",
   "metadata": {},
   "source": [
    "#### 타깃 데이터는 이전과 동일"
   ]
  },
  {
   "cell_type": "code",
   "execution_count": 4,
   "id": "c03463e7-7f56-40d2-983a-b3d80b18df23",
   "metadata": {
    "tags": []
   },
   "outputs": [],
   "source": [
    "import numpy as np\n",
    "perch_weight = np.array(\n",
    "    [5.9, 32.0, 40.0, 51.5, 70.0, 100.0, 78.0, 80.0, 85.0, 85.0, \n",
    "     110.0, 115.0, 125.0, 130.0, 120.0, 120.0, 130.0, 135.0, 110.0, \n",
    "     130.0, 150.0, 145.0, 150.0, 170.0, 225.0, 145.0, 188.0, 180.0, \n",
    "     197.0, 218.0, 300.0, 260.0, 265.0, 250.0, 250.0, 300.0, 320.0, \n",
    "     514.0, 556.0, 840.0, 685.0, 700.0, 700.0, 690.0, 900.0, 650.0, \n",
    "     820.0, 850.0, 900.0, 1015.0, 820.0, 1100.0, 1000.0, 1100.0, \n",
    "     1000.0, 1000.0]\n",
    "     )"
   ]
  },
  {
   "cell_type": "code",
   "execution_count": 5,
   "id": "be9b22d1-b23e-4f21-a620-af092fe83ae1",
   "metadata": {
    "tags": []
   },
   "outputs": [],
   "source": [
    "# 입력 데이터를 훈련세트와 테스트 세트로 분리\n",
    "from sklearn.model_selection import train_test_split\n",
    "train_input, test_input, train_target, test_target = train_test_split(\n",
    "    perch_full, perch_weight, random_state = 42)"
   ]
  },
  {
   "cell_type": "markdown",
   "id": "10a9b871-76b8-49a6-a8f8-74b8385a97f9",
   "metadata": {},
   "source": [
    "### polynomialFeatures 클래스를 사용하여 입력한 데이터희 다양한 특성을 만들어줌.\n",
    "#### 기본적으로 각 특성을 제곱한 항, 각 특성끼리 곱한 항 추가\n",
    "#### 기본적으로 절편 1 추가함."
   ]
  },
  {
   "cell_type": "code",
   "execution_count": 8,
   "id": "8e7090e0-2994-4a5c-8def-3008eaad5db9",
   "metadata": {
    "tags": []
   },
   "outputs": [
    {
     "name": "stdout",
     "output_type": "stream",
     "text": [
      "[[1. 2. 3. 4. 6. 9.]]\n"
     ]
    }
   ],
   "source": [
    "# <예>\n",
    "from sklearn.preprocessing import PolynomialFeatures\n",
    "poly = PolynomialFeatures()\n",
    "poly.fit([[2,3]])\n",
    "print(poly.transform([[2,3]]))"
   ]
  },
  {
   "cell_type": "code",
   "execution_count": 9,
   "id": "9569614c-74f6-4824-b700-bc5046c981a5",
   "metadata": {
    "tags": []
   },
   "outputs": [
    {
     "name": "stdout",
     "output_type": "stream",
     "text": [
      "[[2. 3. 4. 6. 9.]]\n"
     ]
    }
   ],
   "source": [
    "# 자동으로 추가되는 절편 제거\n",
    "poly = PolynomialFeatures(include_bias = False)\n",
    "poly.fit([[2,3]])\n",
    "print(poly.transform([[2,3]]))"
   ]
  },
  {
   "cell_type": "markdown",
   "id": "1bbf3a64-2df4-4d81-8fed-a3fdcb38d5ee",
   "metadata": {},
   "source": [
    "### 이 방식으로 농어 입력 데이터에 적용"
   ]
  },
  {
   "cell_type": "code",
   "execution_count": 13,
   "id": "7c9e5b43-bc35-42fa-8447-00c9872cbae2",
   "metadata": {
    "tags": []
   },
   "outputs": [
    {
     "name": "stdout",
     "output_type": "stream",
     "text": [
      "[[  19.6       5.14      3.04    384.16    100.744    59.584    26.4196\n",
      "    15.6256    9.2416]\n",
      " [  22.        5.88      3.52    484.      129.36     77.44     34.5744\n",
      "    20.6976   12.3904]\n",
      " [  18.7       5.2       3.12    349.69     97.24     58.344    27.04\n",
      "    16.224     9.7344]\n",
      " [  17.4       4.59      2.94    302.76     79.866    51.156    21.0681\n",
      "    13.4946    8.6436]\n",
      " [  36.       10.61      6.74   1296.      381.96    242.64    112.5721\n",
      "    71.5114   45.4276]\n",
      " [  25.        6.44      3.68    625.      161.       92.       41.4736\n",
      "    23.6992   13.5424]\n",
      " [  40.       11.93      7.11   1600.      477.2     284.4     142.3249\n",
      "    84.8223   50.5521]\n",
      " [  39.       12.43      7.35   1521.      484.77    286.65    154.5049\n",
      "    91.3605   54.0225]\n",
      " [  43.       11.93      7.28   1849.      512.99    313.04    142.3249\n",
      "    86.8504   52.9984]\n",
      " [  22.        5.64      3.52    484.      124.08     77.44     31.8096\n",
      "    19.8528   12.3904]\n",
      " [  20.        5.08      2.77    400.      101.6      55.4      25.8064\n",
      "    14.0716    7.6729]\n",
      " [  22.        6.11      3.52    484.      134.42     77.44     37.3321\n",
      "    21.5072   12.3904]\n",
      " [  24.        7.29      3.72    576.      174.96     89.28     53.1441\n",
      "    27.1188   13.8384]\n",
      " [  27.5       7.17      4.34    756.25    197.175   119.35     51.4089\n",
      "    31.1178   18.8356]\n",
      " [  43.       12.51      7.42   1849.      537.93    319.06    156.5001\n",
      "    92.8242   55.0564]\n",
      " [  40.       11.73      7.22   1600.      469.2     288.8     137.5929\n",
      "    84.6906   52.1284]\n",
      " [  24.        6.38      3.82    576.      153.12     91.68     40.7044\n",
      "    24.3716   14.5924]\n",
      " [  21.        5.92      3.31    441.      124.32     69.51     35.0464\n",
      "    19.5952   10.9561]\n",
      " [  27.5       7.05      4.34    756.25    193.875   119.35     49.7025\n",
      "    30.597    18.8356]\n",
      " [  40.       12.38      7.46   1600.      495.2     298.4     153.2644\n",
      "    92.3548   55.6516]\n",
      " [  32.8      10.03      6.02   1075.84    328.984   197.456   100.6009\n",
      "    60.3806   36.2404]\n",
      " [  26.5       7.17      4.14    702.25    190.005   109.71     51.4089\n",
      "    29.6838   17.1396]\n",
      " [  36.5      10.88      6.86   1332.25    397.12    250.39    118.3744\n",
      "    74.6368   47.0596]\n",
      " [  13.7       3.53      2.      187.69     48.361    27.4      12.4609\n",
      "     7.06      4.    ]\n",
      " [  22.7       5.95      3.63    515.29    135.065    82.401    35.4025\n",
      "    21.5985   13.1769]\n",
      " [  15.        3.82      2.43    225.       57.3      36.45     14.5924\n",
      "     9.2826    5.9049]\n",
      " [  37.       10.57      6.37   1369.      391.09    235.69    111.7249\n",
      "    67.3309   40.5769]\n",
      " [  35.       11.49      7.8    1225.      402.15    273.      132.0201\n",
      "    89.622    60.84  ]\n",
      " [  28.7       7.59      4.64    823.69    217.833   133.168    57.6081\n",
      "    35.2176   21.5296]\n",
      " [  23.5       6.28      3.72    552.25    147.58     87.42     39.4384\n",
      "    23.3616   13.8384]\n",
      " [  39.       11.14      6.     1521.      434.46    234.      124.0996\n",
      "    66.84     36.    ]\n",
      " [  21.        5.69      3.56    441.      119.49     74.76     32.3761\n",
      "    20.2564   12.6736]\n",
      " [  23.        5.22      3.63    529.      120.06     83.49     27.2484\n",
      "    18.9486   13.1769]\n",
      " [  22.        5.52      4.      484.      121.44     88.       30.4704\n",
      "    22.08     16.    ]\n",
      " [  44.       12.49      7.6    1936.      549.56    334.4     156.0001\n",
      "    94.924    57.76  ]\n",
      " [  22.5       6.79      3.62    506.25    152.775    81.45     46.1041\n",
      "    24.5798   13.1044]\n",
      " [  19.        5.64      3.05    361.      107.16     57.95     31.8096\n",
      "    17.202     9.3025]\n",
      " [  37.       10.84      6.26   1369.      401.08    231.62    117.5056\n",
      "    67.8584   39.1876]\n",
      " [  22.        6.11      3.41    484.      134.42     75.02     37.3321\n",
      "    20.8351   11.6281]\n",
      " [  25.6       6.56      4.24    655.36    167.936   108.544    43.0336\n",
      "    27.8144   17.9776]\n",
      " [  42.       12.8       6.87   1764.      537.6     288.54    163.84\n",
      "    87.936    47.1969]\n",
      " [  34.5      10.26      6.39   1190.25    353.97    220.455   105.2676\n",
      "    65.5614   40.8321]]\n"
     ]
    }
   ],
   "source": [
    "# 훈련 데이터에 대해 변환\n",
    "poly = PolynomialFeatures(include_bias = False)\n",
    "poly.fit(train_input)\n",
    "train_poly = poly.transform(train_input)\n",
    "print(train_poly)"
   ]
  },
  {
   "cell_type": "markdown",
   "id": "9fbbaa3a-acd5-4f93-b961-f9f1b0a9e1fb",
   "metadata": {},
   "source": [
    "#### 9개의 특성이 어떻게 만들어졌는지 확인"
   ]
  },
  {
   "cell_type": "code",
   "execution_count": 12,
   "id": "df2ca8d9-d323-4c4a-b22a-15dd44524bd5",
   "metadata": {
    "tags": []
   },
   "outputs": [
    {
     "data": {
      "text/plain": [
       "array(['x0', 'x1', 'x2', 'x0^2', 'x0 x1', 'x0 x2', 'x1^2', 'x1 x2',\n",
       "       'x2^2'], dtype=object)"
      ]
     },
     "execution_count": 12,
     "metadata": {},
     "output_type": "execute_result"
    }
   ],
   "source": [
    "poly.get_feature_names_out()"
   ]
  },
  {
   "cell_type": "markdown",
   "id": "7d022727-558c-4474-9ebf-6fb71df6e2b0",
   "metadata": {},
   "source": [
    "### 테스트 세트 변환"
   ]
  },
  {
   "cell_type": "code",
   "execution_count": 14,
   "id": "70ae8420-213e-494e-aefe-aac3088a9843",
   "metadata": {
    "tags": []
   },
   "outputs": [],
   "source": [
    "test_poly = poly.transform(test_input)"
   ]
  },
  {
   "cell_type": "markdown",
   "id": "76c6d4e1-727e-4b48-ad4c-be6467ac3cbc",
   "metadata": {},
   "source": [
    "### 다중회귀 모델 훈련"
   ]
  },
  {
   "cell_type": "code",
   "execution_count": 15,
   "id": "654950d2-c88b-4a70-b39a-7f130a1978da",
   "metadata": {
    "tags": []
   },
   "outputs": [
    {
     "name": "stdout",
     "output_type": "stream",
     "text": [
      "0.9903183436982125\n"
     ]
    }
   ],
   "source": [
    "from sklearn.linear_model import LinearRegression\n",
    "lr = LinearRegression()\n",
    "lr.fit(train_poly, train_target)\n",
    "print(lr.score(train_poly, train_target))"
   ]
  },
  {
   "cell_type": "code",
   "execution_count": 16,
   "id": "121ddf9d-9e5e-4cea-8329-e80b60523d00",
   "metadata": {
    "tags": []
   },
   "outputs": [
    {
     "name": "stdout",
     "output_type": "stream",
     "text": [
      "0.9714559911594155\n"
     ]
    }
   ],
   "source": [
    "print(lr.score(test_poly, test_target))"
   ]
  },
  {
   "cell_type": "markdown",
   "id": "8a5ddb5d-db0c-4fae-9431-d70e443e5d14",
   "metadata": {},
   "source": [
    "### 특성을 더 많이 추가하면 어떻게 될까?"
   ]
  },
  {
   "cell_type": "markdown",
   "id": "ba08d2c7-a02b-4ffb-94b8-f7809a1f3eae",
   "metadata": {},
   "source": [
    "#### 앞의 특성에 3제곱, 4제곱, 5제곱항 추가"
   ]
  },
  {
   "cell_type": "code",
   "execution_count": 20,
   "id": "11678447-ea8b-40d8-9a49-399285dd816a",
   "metadata": {
    "tags": []
   },
   "outputs": [
    {
     "name": "stdout",
     "output_type": "stream",
     "text": [
      "(42, 55)\n"
     ]
    }
   ],
   "source": [
    "poly = PolynomialFeatures(degree=5, include_bias = False) #dgree=5 이면 5제곱까지 추가\n",
    "poly.fit(train_input)\n",
    "train_poly = poly.transform(train_input)\n",
    "test_poly = poly.transform(test_input)\n",
    "print(train_poly.shape)"
   ]
  },
  {
   "cell_type": "markdown",
   "id": "106f354a-38cf-4f86-913b-7a8e7101f025",
   "metadata": {},
   "source": [
    "### 특성 갯수가 55깨까지 증가"
   ]
  },
  {
   "cell_type": "markdown",
   "id": "fb2a5bcc-daf9-49f7-820d-772391591658",
   "metadata": {},
   "source": [
    "#### 이 데이터를 이용하여 선형 회귀모델 훈련"
   ]
  },
  {
   "cell_type": "code",
   "execution_count": 23,
   "id": "9610d8dd-0042-490f-8ec5-47b63439c69e",
   "metadata": {
    "tags": []
   },
   "outputs": [
    {
     "name": "stdout",
     "output_type": "stream",
     "text": [
      "0.9999999999938143\n"
     ]
    }
   ],
   "source": [
    "lr.fit(train_poly, train_target)\n",
    "# 훈련 데이터에 대한 평가\n",
    "print(lr.score(train_poly, train_target))"
   ]
  },
  {
   "cell_type": "code",
   "execution_count": 24,
   "id": "24c7adb3-da0f-4b4d-b1d4-5792735c7ee5",
   "metadata": {
    "tags": []
   },
   "outputs": [
    {
     "name": "stdout",
     "output_type": "stream",
     "text": [
      "-144.40744532797535\n"
     ]
    }
   ],
   "source": [
    "# 테스트 데이터에 대한 평가\n",
    "print(lr.score(test_poly, test_target))"
   ]
  },
  {
   "cell_type": "markdown",
   "id": "8aec8cb9-fdbc-4261-b571-cbba3e3ed151",
   "metadata": {},
   "source": [
    "### 특성값의 표준화"
   ]
  },
  {
   "cell_type": "markdown",
   "id": "8c05e733-955c-4cf4-b798-9ab4300439d4",
   "metadata": {},
   "source": [
    "#### 특성의 스케일이 정규화되지 않으면 곱해지는 계수의 차이가 남.\n",
    "#### 선형 회귀 모델에 규제를 적용할 때 공정하게 제어되지 않음.\n"
   ]
  },
  {
   "cell_type": "code",
   "execution_count": 30,
   "id": "bf1ed77a-08d8-4368-9f6a-f9a66a7d991d",
   "metadata": {
    "tags": []
   },
   "outputs": [],
   "source": [
    "# StandardScaler를 이용해 특성을 표준범수로 변환 : 변환기 사용 방법 : fit()\n",
    "from sklearn.preprocessing import StandardScaler\n",
    "ss = StandardScaler()\n",
    "ss.fit(train_poly)\n",
    "train_scaled = ss.transform(train_poly)\n",
    "test_scaled = ss.transform(test_poly)"
   ]
  },
  {
   "cell_type": "code",
   "execution_count": 31,
   "id": "0d14b904-1e2e-451b-87a4-a12fe812116e",
   "metadata": {
    "tags": []
   },
   "outputs": [
    {
     "name": "stdout",
     "output_type": "stream",
     "text": [
      "[2.84452381e+01 8.04238095e+00 4.82047619e+00 8.85315000e+02\n",
      " 2.53486881e+02 1.51959000e+02 7.29365000e+01 4.36999452e+01\n",
      " 2.62868381e+01 2.97326070e+04 8.59817581e+03 5.15200651e+03\n",
      " 2.49680043e+03 1.49567194e+03 8.99184494e+02 7.27945149e+02\n",
      " 4.36019840e+02 2.62115117e+02 1.58141990e+02 1.05917983e+06\n",
      " 3.08429517e+05 1.84644673e+05 9.01239554e+04 5.39478286e+04\n",
      " 3.23998082e+04 2.64224658e+04 1.58167367e+04 9.49991053e+03\n",
      " 5.72489005e+03 7.77162422e+03 4.65285399e+03 2.79521756e+03\n",
      " 1.68494739e+03 1.01911272e+03 3.93876111e+07 1.15192532e+07\n",
      " 6.88842737e+06 3.37865413e+06 2.02034307e+06 1.21184517e+06\n",
      " 9.93774754e+05 5.94291271e+05 3.56516573e+05 2.14541208e+05\n",
      " 2.93110780e+05 1.75313851e+05 1.05196649e+05 6.33244641e+04\n",
      " 3.82394901e+04 8.66870097e+04 5.18625239e+04 3.11308026e+04\n",
      " 1.87477065e+04 1.13270112e+04 6.86569419e+03] [8.72831196e+00 2.87343151e+00 1.74638123e+00 5.24782988e+02\n",
      " 1.60836428e+02 9.64793789e+01 4.95165749e+01 2.97578956e+01\n",
      " 1.81139412e+01 2.50155373e+04 7.49275582e+03 4.47153009e+03\n",
      " 2.25433695e+03 1.34683566e+03 8.11988865e+02 6.81265335e+02\n",
      " 4.07639942e+02 2.46263218e+02 1.50164227e+02 1.10854579e+06\n",
      " 3.28247889e+05 1.95342267e+05 9.76153931e+04 5.81064317e+04\n",
      " 3.48472685e+04 2.91591483e+04 1.73674986e+04 1.04273041e+04\n",
      " 6.30922253e+03 8.75059964e+03 5.21694989e+03 3.13701782e+03\n",
      " 1.90225250e+03 1.16311955e+03 4.77814865e+07 1.40483165e+07\n",
      " 8.34702250e+06 4.14736151e+06 2.46313653e+06 1.47240427e+06\n",
      " 1.22970655e+06 7.30196641e+05 4.36628701e+05 2.62841007e+05\n",
      " 3.66270535e+05 2.17518714e+05 1.30152823e+05 7.84482709e+04\n",
      " 4.76246733e+04 1.09609367e+05 6.51258832e+04 3.90090183e+04\n",
      " 2.35520992e+04 1.43325296e+04 8.79122582e+03]\n"
     ]
    }
   ],
   "source": [
    "# 표준범수에 사용한 평균과 표준편차 확인\n",
    "print(ss.mean_, ss.scale_)"
   ]
  },
  {
   "cell_type": "markdown",
   "id": "460b8b84-3de2-4b01-aafa-f4ba944a4251",
   "metadata": {},
   "source": [
    "### 선형 회귀 모델에 규제를 추가한 모델 : 릿지(Ridge), 라쏘(Lasso)\n",
    "#### 릿지 - 계수의 제곱한 값을 규제 적용\n",
    "#### 랏소 - 계수의 절대값을 규제 적용"
   ]
  },
  {
   "cell_type": "markdown",
   "id": "f2fbd47f-a702-4d70-9891-c1f4fe5ff9c6",
   "metadata": {},
   "source": [
    "### 릿지 회귀모델"
   ]
  },
  {
   "cell_type": "code",
   "execution_count": 34,
   "id": "cd20c3a0-4bb8-4945-817f-75892d04934c",
   "metadata": {
    "tags": []
   },
   "outputs": [
    {
     "name": "stdout",
     "output_type": "stream",
     "text": [
      "0.9896101671037343\n"
     ]
    }
   ],
   "source": [
    "from sklearn.linear_model import Ridge\n",
    "ridge = Ridge()\n",
    "ridge.fit(train_scaled, train_target)\n",
    "print(ridge.score(train_scaled, train_target))"
   ]
  },
  {
   "cell_type": "markdown",
   "id": "bc6b466b-322b-4df3-8a79-26085828286a",
   "metadata": {},
   "source": [
    "### 선형회귀에서의 점수 보다 조금 낮아짐."
   ]
  },
  {
   "cell_type": "code",
   "execution_count": 35,
   "id": "19bdae89-0d51-40ca-972d-ee16019639cb",
   "metadata": {
    "tags": []
   },
   "outputs": [
    {
     "name": "stdout",
     "output_type": "stream",
     "text": [
      "0.9790693977615386\n"
     ]
    }
   ],
   "source": [
    "print(ridge.score(test_scaled, test_target))"
   ]
  },
  {
   "cell_type": "markdown",
   "id": "c7c382bf-71e7-44ad-b98e-f9917a4a33a0",
   "metadata": {},
   "source": [
    "### 테스트 점수가 정상적으로 돌아옴."
   ]
  },
  {
   "cell_type": "markdown",
   "id": "1a1251a8-57a7-4d79-a544-4c113e0cfcdd",
   "metadata": {},
   "source": [
    "#### 테스트 점수가 정상으로 돌아옴. 특성을 많이 사용했음에도 과대적합하지 않아 좋은 성능을 냄"
   ]
  },
  {
   "cell_type": "markdown",
   "id": "2f7531c4-5b96-49c5-8094-8a4b48b248fd",
   "metadata": {},
   "source": [
    "#### alpha 값으로 규제강도 조절 가능\n",
    "#### 사람이 지정하는 파라미터 -> 하이퍼파라메타(hyper parameter)"
   ]
  },
  {
   "cell_type": "markdown",
   "id": "2d1bc45d-ddb3-40a9-a302-1709edfc8ce9",
   "metadata": {},
   "source": [
    "## 적절한 앒파값을 찾기위해 alpha 값에 대해 $R^2$ 값의 그래프를 그려본다.\n",
    "\n"
   ]
  },
  {
   "cell_type": "code",
   "execution_count": 52,
   "id": "9b251bb9-c8ab-49ec-8c3c-f8fdc774cb25",
   "metadata": {
    "tags": []
   },
   "outputs": [],
   "source": [
    "import matplotlib.pyplot as plt\n",
    "\n",
    "train_score = []\n",
    "test_score = []"
   ]
  },
  {
   "cell_type": "code",
   "execution_count": 55,
   "id": "5e9fa186-3d44-4d98-abfe-026ba7734b63",
   "metadata": {
    "tags": []
   },
   "outputs": [],
   "source": [
    "# alpha값을 0.001~ 100까지 10배씩 늘려가며 릿지 모델  훈련하고 평가\n",
    "alpha_list = [0.001, 0.001, 0.1, 1, 10, 100]\n",
    "\n",
    "for alpha in alpha_list:\n",
    "    # 릿지 모델 생성\n",
    "    ridge = Ridge(alpha = alpha)\n",
    "    \n",
    "    # 릿지모델 훈련\n",
    "    ridge.fit(train_scaled, train_target)\n",
    "    \n",
    "    # 훈련점수와 테스트 점수 저장\n",
    "    train_score.append(ridge.score(train_scaled, train_target))\n",
    "    test_score.append(ridge.score(test_scaled, test_target))"
   ]
  },
  {
   "cell_type": "markdown",
   "id": "e570740e-4f35-48c3-8272-e5af217e8286",
   "metadata": {},
   "source": [
    "### 위의 결과 그래프로 그려본다."
   ]
  },
  {
   "cell_type": "markdown",
   "id": "05d42343-e9ca-4128-90f2-d87cfaf84dfa",
   "metadata": {},
   "source": [
    "#### alpha_list의 값을 동일한 간격으로 표시하기 위해 로그함수로 값을 변환\n",
    "#### 0.001 => -3, 0.01 => -2 ..."
   ]
  },
  {
   "cell_type": "code",
   "execution_count": 56,
   "id": "e85b9368-0631-4a32-a361-ac074dc05733",
   "metadata": {
    "tags": []
   },
   "outputs": [
    {
     "data": {
      "image/png": "[encoded data removed]",
      "text/plain": [
       "<Figure size 640x480 with 1 Axes>"
      ]
     },
     "metadata": {},
     "output_type": "display_data"
    }
   ],
   "source": [
    "plt.plot(np.log10(alpha_list), train_score) # 훈련 평가점수 \n",
    "plt.plot(np.log10(alpha_list), test_score)\n",
    "plt.xlabel('alpha')\n",
    "plt.ylabel('R^2')\n",
    "plt.show()"
   ]
  },
  {
   "cell_type": "markdown",
   "id": "2a66d3da-337b-47e6-a8a4-8555784e52b8",
   "metadata": {
    "jp-MarkdownHeadingCollapsed": true,
    "tags": []
   },
   "source": [
    "#### 왼쪽편은 훈련세트와 테스트 세트의 점수 차이가 너무 큼 => 과대적함 모습\n",
    "#### 오른편은 훈련세트와 테스트 세트 모두 낮아지는 과소적합의 모슴\n",
    "#### 가장 적합한 값은  -1 즉 10^1 => 0.1이 적절한 alpha값임"
   ]
  },
  {
   "cell_type": "code",
   "execution_count": 57,
   "id": "3c2b0e5c-ec33-4310-aff6-63903b77c2eb",
   "metadata": {
    "tags": []
   },
   "outputs": [
    {
     "name": "stdout",
     "output_type": "stream",
     "text": [
      "0.9903815817570368\n",
      "0.9827976465386896\n"
     ]
    }
   ],
   "source": [
    "# alpha값이 0.1 일때 최동 모델 훈련\n",
    " # 릿지 모델 생성\n",
    "ridge = Ridge(alpha = 0.1)\n",
    "    \n",
    "    # 릿지모델 훈련\n",
    "ridge.fit(train_scaled, train_target)\n",
    "    \n",
    "    # 훈련점수와 테스트 점수 저장\n",
    "print(ridge.score(train_scaled, train_target))\n",
    "print(ridge.score(test_scaled, test_target))"
   ]
  },
  {
   "cell_type": "markdown",
   "id": "176599b4-5965-48b1-a113-f4a1709314be",
   "metadata": {},
   "source": [
    "#### 이 모델은 훈련세트, 테스트 세트 점수가 비슷해서 알맞은 모델로 평가됨."
   ]
  },
  {
   "cell_type": "markdown",
   "id": "a0940056-8877-457e-999c-beba1c81845e",
   "metadata": {
    "tags": []
   },
   "source": [
    "### 라쏘 회귀"
   ]
  },
  {
   "cell_type": "markdown",
   "id": "bf95c32c-09d8-4bcd-ab4d-af396758066b",
   "metadata": {},
   "source": [
    "### 라쏘 모델 훈련 "
   ]
  },
  {
   "cell_type": "code",
   "execution_count": 61,
   "id": "24bb7363-53c4-4008-b591-5d35123d8069",
   "metadata": {
    "tags": []
   },
   "outputs": [
    {
     "name": "stdout",
     "output_type": "stream",
     "text": [
      "0.989789897208096\n"
     ]
    }
   ],
   "source": [
    "from sklearn.linear_model import Lasso\n",
    "lasso = Lasso()\n",
    "lasso.fit(train_scaled, train_target)\n",
    "print(lasso.score(train_scaled, train_target))"
   ]
  },
  {
   "cell_type": "code",
   "execution_count": 62,
   "id": "307eabc5-b892-4146-b304-6e5cac3e2edb",
   "metadata": {
    "tags": []
   },
   "outputs": [
    {
     "name": "stdout",
     "output_type": "stream",
     "text": [
      "0.9800593698421884\n"
     ]
    }
   ],
   "source": [
    "print(lasso.score(test_scaled, test_target))"
   ]
  },
  {
   "cell_type": "markdown",
   "id": "1eda5c74-79db-4348-8d18-2ebf3c094b6e",
   "metadata": {},
   "source": [
    "#### alpha 값으로 규제 강도 조절"
   ]
  },
  {
   "cell_type": "code",
   "execution_count": 75,
   "id": "2006d146-adf7-498e-9bb8-f058b30991a8",
   "metadata": {
    "tags": []
   },
   "outputs": [
    {
     "name": "stderr",
     "output_type": "stream",
     "text": [
      "C:\\Users\\602-01\\anaconda3\\Lib\\site-packages\\sklearn\\linear_model\\_coordinate_descent.py:628: ConvergenceWarning: Objective did not converge. You might want to increase the number of iterations, check the scale of the features or consider increasing regularisation. Duality gap: 1.878e+04, tolerance: 5.183e+02\n",
      "  model = cd_fast.enet_coordinate_descent(\n",
      "C:\\Users\\602-01\\anaconda3\\Lib\\site-packages\\sklearn\\linear_model\\_coordinate_descent.py:628: ConvergenceWarning: Objective did not converge. You might want to increase the number of iterations, check the scale of the features or consider increasing regularisation. Duality gap: 1.878e+04, tolerance: 5.183e+02\n",
      "  model = cd_fast.enet_coordinate_descent(\n"
     ]
    }
   ],
   "source": [
    "train_score = []\n",
    "test_score = []\n",
    "\n",
    "alpha_list = [0.001, 0.001, 0.1, 1, 10, 100]\n",
    "\n",
    "for alpha in alpha_list:\n",
    "    # 라쏘 모델 생성\n",
    "    lasso = Lasso(alpha = alpha , max_iter = 10000) # max_inter는 훈련 시 반복 횟수\n",
    "    \n",
    "    # 라쏘 모델 훈련\n",
    "    lasso.fit(train_scaled, train_target)\n",
    "    \n",
    "    # 훈련점수와 테스트 점수 저장\n",
    "    train_score.append(lasso.score(train_scaled, train_target))\n",
    "    test_score.append(lasso.score(test_scaled, test_target))"
   ]
  },
  {
   "cell_type": "code",
   "execution_count": 76,
   "id": "bb876523-d5c6-402e-aa43-1915a2666f06",
   "metadata": {
    "tags": []
   },
   "outputs": [
    {
     "data": {
      "image/png": "[encoded data removed]",
      "text/plain": [
       "<Figure size 640x480 with 1 Axes>"
      ]
     },
     "metadata": {},
     "output_type": "display_data"
    }
   ],
   "source": [
    "plt.plot(np.log10(alpha_list), train_score) # 훈련 평가점수 \n",
    "plt.plot(np.log10(alpha_list), test_score)\n",
    "plt.xlabel('alpha')\n",
    "plt.ylabel('R^2')\n",
    "plt.show()"
   ]
  },
  {
   "cell_type": "markdown",
   "id": "8181f21a-cff5-436e-b692-e1160af1e973",
   "metadata": {},
   "source": [
    "#### 가장 최적의 alpha값은 1 => 10^1 = 10"
   ]
  },
  {
   "cell_type": "code",
   "execution_count": 74,
   "id": "dd3989fd-9900-4c54-82ba-b297fc535272",
   "metadata": {
    "tags": []
   },
   "outputs": [
    {
     "name": "stdout",
     "output_type": "stream",
     "text": [
      "0.9888067471131867\n",
      "0.9824470598706695\n"
     ]
    }
   ],
   "source": [
    "lasso = Lasso(alpha=10)\n",
    "lasso.fit(train_scaled, train_target)\n",
    "print(lasso.score(train_scaled, train_target))\n",
    "print(lasso.score(test_scaled, test_target))"
   ]
  },
  {
   "cell_type": "code",
   "execution_count": null,
   "id": "e0a2a67b-b13e-4bf5-9b41-eac09c63b622",
   "metadata": {},
   "outputs": [],
   "source": []
  }
 ],
 "metadata": {
  "kernelspec": {
   "display_name": "Python 3 (ipykernel)",
   "language": "python",
   "name": "python3"
  },
  "language_info": {
   "codemirror_mode": {
    "name": "ipython",
    "version": 3
   },
   "file_extension": ".py",
   "mimetype": "text/x-python",
   "name": "python",
   "nbconvert_exporter": "python",
   "pygments_lexer": "ipython3",
   "version": "3.11.5"
  }
 },
 "nbformat": 4,
 "nbformat_minor": 5
}
