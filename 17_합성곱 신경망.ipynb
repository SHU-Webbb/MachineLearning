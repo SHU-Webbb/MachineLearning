{
 "cells": [
  {
   "cell_type": "markdown",
   "id": "a585a8fe-fd12-48bc-9327-04f8a03cfa0a",
   "metadata": {},
   "source": [
    "# 1. 합성곱 신경망의 구성 요소"
   ]
  },
  {
   "cell_type": "markdown",
   "id": "2bed5951-5cc6-4bea-b2b1-96ca43a845cf",
   "metadata": {},
   "source": [
    "#### 합성곱 - 입력 데이터 전체에 가중치를 적용하는 것이 아니라 일부에 가중치 곱한다."
   ]
  },
  {
   "cell_type": "markdown",
   "id": "4473ff37-5927-4a4a-999c-b398ca65b44b",
   "metadata": {},
   "source": [
    "#### 10개의 입력을 가진 합성곱의 뉴런은 8개의 출력을 만든다.(가중치가 3개일 경우)"
   ]
  },
  {
   "cell_type": "markdown",
   "id": "a2cefb81-2145-40f4-b438-16ac85122667",
   "metadata": {},
   "source": [
    "#### 필터 - 뉴런이 입력위를 이동하면서 출력을 만들기 때문에 뉴런을 필터라 한다."
   ]
  },
  {
   "cell_type": "markdown",
   "id": "13507e24-510d-4aae-a91b-2fcd7750a9fc",
   "metadata": {},
   "source": [
    "## 2. 케라스의 합성곱 층"
   ]
  },
  {
   "cell_type": "markdown",
   "id": "6c651065-db5f-410b-b85e-5e0b3c5f2bb0",
   "metadata": {},
   "source": [
    "#### 케라스의 합성곱은 keras.layers 패키지아래 Conv2D 클래스로 제공함."
   ]
  },
  {
   "cell_type": "code",
   "execution_count": 2,
   "id": "6f7135b5-60d8-4551-9196-04ac8a89eba3",
   "metadata": {
    "tags": []
   },
   "outputs": [
    {
     "data": {
      "text/plain": [
       "<Conv2D name=conv2d_1, built=False>"
      ]
     },
     "execution_count": 2,
     "metadata": {},
     "output_type": "execute_result"
    }
   ],
   "source": [
    "from  tensorflow import keras\n",
    "#10 - 필터의 갯수, kernel_size : 커넷의 크기, crivateoin: 활성화 함수\n",
    "keras.layers.Conv2D(10, kernel_size=(3,3), activation='relu')"
   ]
  },
  {
   "cell_type": "markdown",
   "id": "e5f33ae1-2763-4457-930b-ef4bd189dea9",
   "metadata": {
    "tags": []
   },
   "source": [
    "### (1) 패딩\n",
    "#### 입력과 턱성맵의 크기를 동일하게 만들기 위해서 입력주위에 9으로 채워주는 것을 패이(세임패딩)이라 한다.\n"
   ]
  },
  {
   "cell_type": "markdown",
   "id": "b75cd80f-cb38-4835-9abd-dfe80ab91b85",
   "metadata": {},
   "source": [
    "## 패딩을 사용하는 이유\n",
    "#### 패딩없이 합성곱을 한다면 위쪽 모서리의 3은 커녕 가중치 계산을 한번만 참여\n",
    "#### 반면 다른 원소들은 2번 이상 커널 계산에 참여, 각 모서리의 중요한 정보가 특성맵에 전달되지 않을 가능성이 높음"
   ]
  },
  {
   "cell_type": "code",
   "execution_count": 7,
   "id": "b8fa65db-cd96-481e-9a8c-b85c3a04e9e7",
   "metadata": {
    "tags": []
   },
   "outputs": [
    {
     "data": {
      "text/plain": [
       "<Conv2D name=conv2d_4, built=False>"
      ]
     },
     "execution_count": 7,
     "metadata": {},
     "output_type": "execute_result"
    }
   ],
   "source": [
    "# 케라스에서 패딩을 지정하는 방법 : padding 속성\n",
    "keras.layers.Conv2D(10, kernel_size=(3,3), activation='relu', padding='same')     "
   ]
  },
  {
   "cell_type": "markdown",
   "id": "d81f1a94-425d-4719-a009-86131733ce31",
   "metadata": {},
   "source": [
    "### 스트라이드\n",
    "#### 합성곱(필터)의 이동 크기를 지정. 기본값은 1"
   ]
  },
  {
   "cell_type": "code",
   "execution_count": 8,
   "id": "76670862-3eec-4448-9fa7-e2380bd35d9e",
   "metadata": {
    "tags": []
   },
   "outputs": [
    {
     "data": {
      "text/plain": [
       "<Conv2D name=conv2d_5, built=False>"
      ]
     },
     "execution_count": 8,
     "metadata": {},
     "output_type": "execute_result"
    }
   ],
   "source": [
    "keras.layers.Conv2D(10, kernel_size=(3,3), activation='relu', padding='same', strides=1)"
   ]
  },
  {
   "cell_type": "markdown",
   "id": "67db3b53-e415-47f8-80a7-773f4fb73332",
   "metadata": {},
   "source": [
    "### 풀링(Pooling)"
   ]
  },
  {
   "cell_type": "markdown",
   "id": "a6fda842-1fa5-4847-82c9-12b21f9953e7",
   "metadata": {},
   "source": [
    "#### 합성곱 층에서 만든 특성맵의 가로,세로 크기를 줄이는 역할을 수행\n",
    "#### 특성맵의 갯수는 줄지 않는다.\n",
    "#### 풀링에는 가중치가 없고 필터를 적용한 영역에서 가장 큰 값을 고르거나(최대풀링) 평균값을 계산(평균 풀링)\n",
    "#### 풀링은 합성곱층과 구분하기 위해 풀링층이라 부른다."
   ]
  },
  {
   "cell_type": "code",
   "execution_count": 11,
   "id": "3d5a5ce9-147f-454b-a0ef-2255b6bbab3f",
   "metadata": {
    "tags": []
   },
   "outputs": [
    {
     "data": {
      "text/plain": [
       "<MaxPooling2D name=max_pooling2d_2, built=False>"
      ]
     },
     "execution_count": 11,
     "metadata": {},
     "output_type": "execute_result"
    }
   ],
   "source": [
    "# 케라스에서 풀링의 구현. strides나 padding매개변수 제공\n",
    "keras.layers.MaxPooling2D(2)  # 최대 풀링. 매개변수2: 풀링의 크기 지정"
   ]
  },
  {
   "cell_type": "markdown",
   "id": "d4950ce9-9d7c-44b3-9238-9609a4bf7ed2",
   "metadata": {},
   "source": [
    "#### 평균 풀링 클래스 : AveragePooling2D"
   ]
  },
  {
   "cell_type": "markdown",
   "id": "229596b8-7fe6-46ab-8c0c-7c39bd58496c",
   "metadata": {},
   "source": [
    "## 3. 합성곱 신경망을 이용한 이미지 분류"
   ]
  },
  {
   "cell_type": "markdown",
   "id": "a5f983f9-423e-4dad-99c7-4ba36598afb1",
   "metadata": {},
   "source": [
    "### (1) MNIST 데이터 불러오기"
   ]
  },
  {
   "cell_type": "code",
   "execution_count": 14,
   "id": "d8a18704-67f4-49f8-abc1-3c7b680aae1d",
   "metadata": {
    "tags": []
   },
   "outputs": [],
   "source": [
    "from tensorflow import keras\n",
    "from sklearn.model_selection import train_test_split\n",
    "(train_input, train_target), (test_input, test_target) =\\\n",
    "    keras.datasets.fashion_mnist.load_data()\n",
    "# 흑백이미지의 경우 채널 차원이 없는 2차원 배열이지만, Conv2D층을 사용하기 위해 마지막에 채널 차원을 추가해야 함.\n",
    "train_scaled = train_input.reshape(-1, 28, 28, 1) / 255.0\n",
    "train_scaled, val_scaled, train_target, val_target = train_test_split(train_scaled, train_target, test_size=0.2, random_state=42)"
   ]
  },
  {
   "cell_type": "markdown",
   "id": "aaa14984-3396-4f87-b839-f183f6ad46d5",
   "metadata": {},
   "source": [
    "### (2) 합성곱 신경망 만들기"
   ]
  },
  {
   "cell_type": "code",
   "execution_count": 18,
   "id": "06705266-7f8f-4231-968b-fd3d5d1b3a78",
   "metadata": {
    "tags": []
   },
   "outputs": [],
   "source": [
    "# Sequential 클래스에 합성곱층 Conv2D 추가\n",
    "model = keras.Sequential()\n",
    "model.add(keras.layers.Conv2D(32, kernel_size=3, activation='relu', padding='same', input_shape=(28, 28, 1)))"
   ]
  },
  {
   "cell_type": "markdown",
   "id": "d2f59842-cd3a-45cf-9a3a-66e6dfe94146",
   "metadata": {},
   "source": [
    "#### 합성곱 충은 32개의 필터 사용, 커널의 크기(3,3),relu 활성화함수, 세임패딩 사용"
   ]
  },
  {
   "cell_type": "markdown",
   "id": "8f2a17df-b251-4b18-962c-785ad8d8cb38",
   "metadata": {},
   "source": [
    "#### 풀링층 추가 "
   ]
  },
  {
   "cell_type": "code",
   "execution_count": 19,
   "id": "6e377112-d1db-4f9e-b558-a3827c5049e1",
   "metadata": {
    "tags": []
   },
   "outputs": [],
   "source": [
    "model.add(keras.layers.MaxPooling2D(2))"
   ]
  },
  {
   "cell_type": "markdown",
   "id": "8bad47ad-b316-4769-a682-b9e6fc95acae",
   "metadata": {},
   "source": [
    "#### * 패션 MNIST 입력 이미지가 (28,28)이고, 세임패딩을 적용했기 때문에 합성곱층의 출력은 입력과 동일한 크기임.\n",
    "#### * (2,2) 풀링을 정용했으므로 특성맵의 절반으로 줄어서 (14,14,32)가 될것임."
   ]
  },
  {
   "cell_type": "markdown",
   "id": "a81e7c53-1a1d-41d2-9a86-46f5753e45df",
   "metadata": {},
   "source": [
    "### (3) 두번째 합성곱층, 풀링층 추가"
   ]
  },
  {
   "cell_type": "code",
   "execution_count": 20,
   "id": "38a64a0e-c5de-414e-b01c-27d3775a95f2",
   "metadata": {
    "tags": []
   },
   "outputs": [],
   "source": [
    "# 필터의 갯수를 64개로 늘림\n",
    "model.add(keras.layers.Conv2D(64, kernel_size=3, activation='relu', padding='same'))\n",
    "model.add(keras.layers.MaxPooling2D(2))          "
   ]
  },
  {
   "cell_type": "markdown",
   "id": "21f2b821-fd0d-4317-a424-6cbf1e817626",
   "metadata": {},
   "source": [
    "#### 세임패딩을 사용했으므로 입력의 크기와 마찬가지로 14x14이고, 필터는 64이므로 (14,14,64)가 됨\n",
    "#### 풀링층을 통과한 최종 맵은 (7, 7, 64) 특성맵이 산출됨."
   ]
  },
  {
   "cell_type": "markdown",
   "id": "e513c874-889e-4f07-a93d-b449c300f8df",
   "metadata": {},
   "source": [
    "### (4) 3차원 특성맵을 일렬로 펼친다."
   ]
  },
  {
   "cell_type": "code",
   "execution_count": 21,
   "id": "ef5efdbb-ce67-4e17-abb6-779d0d0782c5",
   "metadata": {
    "tags": []
   },
   "outputs": [],
   "source": [
    "# Flatten, Dense, Dense, 출력층으로 구성\n",
    "model.add(keras.layers.Flatten())\n",
    "model.add(keras.layers.Dense(100, activation='relu'))\n",
    "model.add(keras.layers.Dropout(0.4))\n",
    "model.add(keras.layers.Dense(10, activation='softmax'))"
   ]
  },
  {
   "cell_type": "code",
   "execution_count": 22,
   "id": "fcfb7b28-fccd-40b9-98d1-3c2957a3a36b",
   "metadata": {
    "tags": []
   },
   "outputs": [
    {
     "data": {
      "text/html": [
       "<pre style=\"white-space:pre;overflow-x:auto;line-height:normal;font-family:Menlo,'DejaVu Sans Mono',consolas,'Courier New',monospace\"><span style=\"font-weight: bold\">Model: \"sequential_2\"</span>\n",
       "</pre>\n"
      ],
      "text/plain": [
       "\u001b[1mModel: \"sequential_2\"\u001b[0m\n"
      ]
     },
     "metadata": {},
     "output_type": "display_data"
    },
    {
     "data": {
      "text/html": [
       "<pre style=\"white-space:pre;overflow-x:auto;line-height:normal;font-family:Menlo,'DejaVu Sans Mono',consolas,'Courier New',monospace\">┏━━━━━━━━━━━━━━━━━━━━━━━━━━━━━━━━━┳━━━━━━━━━━━━━━━━━━━━━━━━┳━━━━━━━━━━━━━━━┓\n",
       "┃<span style=\"font-weight: bold\"> Layer (type)                    </span>┃<span style=\"font-weight: bold\"> Output Shape           </span>┃<span style=\"font-weight: bold\">       Param # </span>┃\n",
       "┡━━━━━━━━━━━━━━━━━━━━━━━━━━━━━━━━━╇━━━━━━━━━━━━━━━━━━━━━━━━╇━━━━━━━━━━━━━━━┩\n",
       "│ conv2d_8 (<span style=\"color: #0087ff; text-decoration-color: #0087ff\">Conv2D</span>)               │ (<span style=\"color: #00d7ff; text-decoration-color: #00d7ff\">None</span>, <span style=\"color: #00af00; text-decoration-color: #00af00\">28</span>, <span style=\"color: #00af00; text-decoration-color: #00af00\">28</span>, <span style=\"color: #00af00; text-decoration-color: #00af00\">32</span>)     │           <span style=\"color: #00af00; text-decoration-color: #00af00\">320</span> │\n",
       "├─────────────────────────────────┼────────────────────────┼───────────────┤\n",
       "│ max_pooling2d_3 (<span style=\"color: #0087ff; text-decoration-color: #0087ff\">MaxPooling2D</span>)  │ (<span style=\"color: #00d7ff; text-decoration-color: #00d7ff\">None</span>, <span style=\"color: #00af00; text-decoration-color: #00af00\">14</span>, <span style=\"color: #00af00; text-decoration-color: #00af00\">14</span>, <span style=\"color: #00af00; text-decoration-color: #00af00\">32</span>)     │             <span style=\"color: #00af00; text-decoration-color: #00af00\">0</span> │\n",
       "├─────────────────────────────────┼────────────────────────┼───────────────┤\n",
       "│ conv2d_9 (<span style=\"color: #0087ff; text-decoration-color: #0087ff\">Conv2D</span>)               │ (<span style=\"color: #00d7ff; text-decoration-color: #00d7ff\">None</span>, <span style=\"color: #00af00; text-decoration-color: #00af00\">14</span>, <span style=\"color: #00af00; text-decoration-color: #00af00\">14</span>, <span style=\"color: #00af00; text-decoration-color: #00af00\">64</span>)     │        <span style=\"color: #00af00; text-decoration-color: #00af00\">18,496</span> │\n",
       "├─────────────────────────────────┼────────────────────────┼───────────────┤\n",
       "│ max_pooling2d_4 (<span style=\"color: #0087ff; text-decoration-color: #0087ff\">MaxPooling2D</span>)  │ (<span style=\"color: #00d7ff; text-decoration-color: #00d7ff\">None</span>, <span style=\"color: #00af00; text-decoration-color: #00af00\">7</span>, <span style=\"color: #00af00; text-decoration-color: #00af00\">7</span>, <span style=\"color: #00af00; text-decoration-color: #00af00\">64</span>)       │             <span style=\"color: #00af00; text-decoration-color: #00af00\">0</span> │\n",
       "├─────────────────────────────────┼────────────────────────┼───────────────┤\n",
       "│ flatten (<span style=\"color: #0087ff; text-decoration-color: #0087ff\">Flatten</span>)               │ (<span style=\"color: #00d7ff; text-decoration-color: #00d7ff\">None</span>, <span style=\"color: #00af00; text-decoration-color: #00af00\">3136</span>)           │             <span style=\"color: #00af00; text-decoration-color: #00af00\">0</span> │\n",
       "├─────────────────────────────────┼────────────────────────┼───────────────┤\n",
       "│ dense (<span style=\"color: #0087ff; text-decoration-color: #0087ff\">Dense</span>)                   │ (<span style=\"color: #00d7ff; text-decoration-color: #00d7ff\">None</span>, <span style=\"color: #00af00; text-decoration-color: #00af00\">100</span>)            │       <span style=\"color: #00af00; text-decoration-color: #00af00\">313,700</span> │\n",
       "├─────────────────────────────────┼────────────────────────┼───────────────┤\n",
       "│ dropout (<span style=\"color: #0087ff; text-decoration-color: #0087ff\">Dropout</span>)               │ (<span style=\"color: #00d7ff; text-decoration-color: #00d7ff\">None</span>, <span style=\"color: #00af00; text-decoration-color: #00af00\">100</span>)            │             <span style=\"color: #00af00; text-decoration-color: #00af00\">0</span> │\n",
       "├─────────────────────────────────┼────────────────────────┼───────────────┤\n",
       "│ dense_1 (<span style=\"color: #0087ff; text-decoration-color: #0087ff\">Dense</span>)                 │ (<span style=\"color: #00d7ff; text-decoration-color: #00d7ff\">None</span>, <span style=\"color: #00af00; text-decoration-color: #00af00\">10</span>)             │         <span style=\"color: #00af00; text-decoration-color: #00af00\">1,010</span> │\n",
       "└─────────────────────────────────┴────────────────────────┴───────────────┘\n",
       "</pre>\n"
      ],
      "text/plain": [
       "┏━━━━━━━━━━━━━━━━━━━━━━━━━━━━━━━━━┳━━━━━━━━━━━━━━━━━━━━━━━━┳━━━━━━━━━━━━━━━┓\n",
       "┃\u001b[1m \u001b[0m\u001b[1mLayer (type)                   \u001b[0m\u001b[1m \u001b[0m┃\u001b[1m \u001b[0m\u001b[1mOutput Shape          \u001b[0m\u001b[1m \u001b[0m┃\u001b[1m \u001b[0m\u001b[1m      Param #\u001b[0m\u001b[1m \u001b[0m┃\n",
       "┡━━━━━━━━━━━━━━━━━━━━━━━━━━━━━━━━━╇━━━━━━━━━━━━━━━━━━━━━━━━╇━━━━━━━━━━━━━━━┩\n",
       "│ conv2d_8 (\u001b[38;5;33mConv2D\u001b[0m)               │ (\u001b[38;5;45mNone\u001b[0m, \u001b[38;5;34m28\u001b[0m, \u001b[38;5;34m28\u001b[0m, \u001b[38;5;34m32\u001b[0m)     │           \u001b[38;5;34m320\u001b[0m │\n",
       "├─────────────────────────────────┼────────────────────────┼───────────────┤\n",
       "│ max_pooling2d_3 (\u001b[38;5;33mMaxPooling2D\u001b[0m)  │ (\u001b[38;5;45mNone\u001b[0m, \u001b[38;5;34m14\u001b[0m, \u001b[38;5;34m14\u001b[0m, \u001b[38;5;34m32\u001b[0m)     │             \u001b[38;5;34m0\u001b[0m │\n",
       "├─────────────────────────────────┼────────────────────────┼───────────────┤\n",
       "│ conv2d_9 (\u001b[38;5;33mConv2D\u001b[0m)               │ (\u001b[38;5;45mNone\u001b[0m, \u001b[38;5;34m14\u001b[0m, \u001b[38;5;34m14\u001b[0m, \u001b[38;5;34m64\u001b[0m)     │        \u001b[38;5;34m18,496\u001b[0m │\n",
       "├─────────────────────────────────┼────────────────────────┼───────────────┤\n",
       "│ max_pooling2d_4 (\u001b[38;5;33mMaxPooling2D\u001b[0m)  │ (\u001b[38;5;45mNone\u001b[0m, \u001b[38;5;34m7\u001b[0m, \u001b[38;5;34m7\u001b[0m, \u001b[38;5;34m64\u001b[0m)       │             \u001b[38;5;34m0\u001b[0m │\n",
       "├─────────────────────────────────┼────────────────────────┼───────────────┤\n",
       "│ flatten (\u001b[38;5;33mFlatten\u001b[0m)               │ (\u001b[38;5;45mNone\u001b[0m, \u001b[38;5;34m3136\u001b[0m)           │             \u001b[38;5;34m0\u001b[0m │\n",
       "├─────────────────────────────────┼────────────────────────┼───────────────┤\n",
       "│ dense (\u001b[38;5;33mDense\u001b[0m)                   │ (\u001b[38;5;45mNone\u001b[0m, \u001b[38;5;34m100\u001b[0m)            │       \u001b[38;5;34m313,700\u001b[0m │\n",
       "├─────────────────────────────────┼────────────────────────┼───────────────┤\n",
       "│ dropout (\u001b[38;5;33mDropout\u001b[0m)               │ (\u001b[38;5;45mNone\u001b[0m, \u001b[38;5;34m100\u001b[0m)            │             \u001b[38;5;34m0\u001b[0m │\n",
       "├─────────────────────────────────┼────────────────────────┼───────────────┤\n",
       "│ dense_1 (\u001b[38;5;33mDense\u001b[0m)                 │ (\u001b[38;5;45mNone\u001b[0m, \u001b[38;5;34m10\u001b[0m)             │         \u001b[38;5;34m1,010\u001b[0m │\n",
       "└─────────────────────────────────┴────────────────────────┴───────────────┘\n"
      ]
     },
     "metadata": {},
     "output_type": "display_data"
    },
    {
     "data": {
      "text/html": [
       "<pre style=\"white-space:pre;overflow-x:auto;line-height:normal;font-family:Menlo,'DejaVu Sans Mono',consolas,'Courier New',monospace\"><span style=\"font-weight: bold\"> Total params: </span><span style=\"color: #00af00; text-decoration-color: #00af00\">333,526</span> (1.27 MB)\n",
       "</pre>\n"
      ],
      "text/plain": [
       "\u001b[1m Total params: \u001b[0m\u001b[38;5;34m333,526\u001b[0m (1.27 MB)\n"
      ]
     },
     "metadata": {},
     "output_type": "display_data"
    },
    {
     "data": {
      "text/html": [
       "<pre style=\"white-space:pre;overflow-x:auto;line-height:normal;font-family:Menlo,'DejaVu Sans Mono',consolas,'Courier New',monospace\"><span style=\"font-weight: bold\"> Trainable params: </span><span style=\"color: #00af00; text-decoration-color: #00af00\">333,526</span> (1.27 MB)\n",
       "</pre>\n"
      ],
      "text/plain": [
       "\u001b[1m Trainable params: \u001b[0m\u001b[38;5;34m333,526\u001b[0m (1.27 MB)\n"
      ]
     },
     "metadata": {},
     "output_type": "display_data"
    },
    {
     "data": {
      "text/html": [
       "<pre style=\"white-space:pre;overflow-x:auto;line-height:normal;font-family:Menlo,'DejaVu Sans Mono',consolas,'Courier New',monospace\"><span style=\"font-weight: bold\"> Non-trainable params: </span><span style=\"color: #00af00; text-decoration-color: #00af00\">0</span> (0.00 B)\n",
       "</pre>\n"
      ],
      "text/plain": [
       "\u001b[1m Non-trainable params: \u001b[0m\u001b[38;5;34m0\u001b[0m (0.00 B)\n"
      ]
     },
     "metadata": {},
     "output_type": "display_data"
    }
   ],
   "source": [
    "model.summary()"
   ]
  },
  {
   "cell_type": "code",
   "execution_count": null,
   "id": "8fde7ddd-bdd4-4f49-b0ee-15e0f944a77f",
   "metadata": {},
   "outputs": [],
   "source": []
  }
 ],
 "metadata": {
  "kernelspec": {
   "display_name": "Python 3 (ipykernel)",
   "language": "python",
   "name": "python3"
  },
  "language_info": {
   "codemirror_mode": {
    "name": "ipython",
    "version": 3
   },
   "file_extension": ".py",
   "mimetype": "text/x-python",
   "name": "python",
   "nbconvert_exporter": "python",
   "pygments_lexer": "ipython3",
   "version": "3.11.5"
  }
 },
 "nbformat": 4,
 "nbformat_minor": 5
}
